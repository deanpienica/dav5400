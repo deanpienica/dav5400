{
 "cells": [
  {
   "cell_type": "code",
   "execution_count": 40,
   "metadata": {},
   "outputs": [
    {
     "name": "stdout",
     "output_type": "stream",
     "text": [
      "['high', 'high', '2', '4', 'med', 'low', 'unacc']\n",
      "['high', 'high', '4', 'more', 'small', 'high', 'acc']\n",
      "['high', 'high', '4', 'more', 'big', 'low', 'unacc']\n",
      "['high', 'low', '2', 'more', 'big', 'high', 'acc']\n",
      "['vhigh', 'low', '3', '2', 'med', 'med', 'unacc']\n",
      "['low', 'high', '2', '2', 'small', 'low', 'unacc']\n",
      "['med', 'med', '4', 'more', 'med', 'high', 'vgood']\n",
      "['low', 'low', '3', '2', 'big', 'med', 'unacc']\n",
      "['vhigh', 'low', '2', '2', 'small', 'low', 'unacc']\n",
      "['vhigh', 'high', '4', '4', 'med', 'low', 'unacc']\n",
      "['low', 'low', '2', '2', 'med', 'med', 'unacc']\n",
      "['vhigh', 'low', '4', 'more', 'small', 'high', 'acc']\n",
      "['high', 'low', '2', '4', 'big', 'med', 'acc']\n",
      "['low', 'vhigh', '3', 'more', 'big', 'low', 'unacc']\n",
      "['high', 'low', '5more', '2', 'big', 'med', 'unacc']\n",
      "['vhigh', 'high', '2', 'more', 'med', 'high', 'unacc']\n",
      "['med', 'med', '2', '2', 'small', 'low', 'unacc']\n",
      "['high', 'low', '5more', '4', 'med', 'high', 'acc']\n",
      "['low', 'low', '3', 'more', 'med', 'high', 'vgood']\n",
      "['low', 'low', '2', '2', 'big', 'med', 'unacc']\n",
      "['med', 'high', '4', '2', 'big', 'high', 'unacc']\n",
      "['low', 'low', '2', '2', 'small', 'high', 'unacc']\n",
      "['vhigh', 'high', '5more', '4', 'med', 'med', 'unacc']\n",
      "['med', 'vhigh', '2', '2', 'big', 'low', 'unacc']\n",
      "['low', 'vhigh', '4', '4', 'big', 'low', 'unacc']\n",
      "['vhigh', 'low', '3', 'more', 'big', 'low', 'unacc']\n",
      "['med', 'vhigh', '3', '4', 'small', 'low', 'unacc']\n",
      "['high', 'high', '3', '4', 'med', 'med', 'unacc']\n",
      "['low', 'high', '5more', '2', 'big', 'low', 'unacc']\n",
      "['med', 'high', '5more', '2', 'med', 'med', 'unacc']\n",
      "['high', 'low', '3', '4', 'med', 'high', 'acc']\n",
      "['high', 'vhigh', '5more', '4', 'med', 'med', 'unacc']\n",
      "['low', 'low', '5more', '2', 'med', 'low', 'unacc']\n",
      "['vhigh', 'vhigh', '4', '2', 'big', 'high', 'unacc']\n",
      "['high', 'low', '3', '2', 'big', 'high', 'unacc']\n"
     ]
    }
   ],
   "source": [
    "import csv\n",
    "# be sure to update the path below to reflect your own environment!!\n",
    "# also be sure that the code is properly indented after you paste it!\n",
    "with open('/Users/Deano/Desktop/cars-sample35.txt') as csvfile:\n",
    "    readCSV = csv.reader(csvfile)\n",
    "    for row in readCSV:\n",
    "# print each row as read by the csv.reader function\n",
    "        print(row)"
   ]
  },
  {
   "cell_type": "code",
   "execution_count": 41,
   "metadata": {},
   "outputs": [
    {
     "name": "stdout",
     "output_type": "stream",
     "text": [
      "['high', 'high', 'high', 'high', 'vhigh', 'low', 'med', 'low', 'vhigh', 'vhigh', 'low', 'vhigh', 'high', 'low', 'high', 'vhigh', 'med', 'high', 'low', 'low', 'med', 'low', 'vhigh', 'med', 'low', 'vhigh', 'med', 'high', 'low', 'med', 'high', 'high', 'low', 'vhigh', 'high']\n"
     ]
    }
   ],
   "source": [
    "#Creat new price list\n",
    "#getting all first values from each row and creat new list \n",
    "price_list=[]\n",
    "\n",
    "import csv\n",
    "with open('/Users/Deano/Desktop/cars-sample35.txt') as csvfile:\n",
    "    readCSV = csv.reader(csvfile)\n",
    "    for row in readCSV:\n",
    "        price_list.append(row[0])\n",
    "\n",
    "print(price_list)"
   ]
  },
  {
   "cell_type": "code",
   "execution_count": 42,
   "metadata": {},
   "outputs": [
    {
     "name": "stdout",
     "output_type": "stream",
     "text": [
      "['high', 'high', 'high', 'low', 'low', 'high', 'med', 'low', 'low', 'high', 'low', 'low', 'low', 'vhigh', 'low', 'high', 'med', 'low', 'low', 'low', 'high', 'low', 'high', 'vhigh', 'vhigh', 'low', 'vhigh', 'high', 'high', 'high', 'low', 'vhigh', 'low', 'vhigh', 'low']\n"
     ]
    }
   ],
   "source": [
    "#Creat new maintenance cost list\n",
    "#getting all second values from each row and creat new list \n",
    "maintenance_cost_list=[]\n",
    "\n",
    "import csv\n",
    "with open('/Users/Deano/Desktop/cars-sample35.txt') as csvfile:\n",
    "    readCSV = csv.reader(csvfile)\n",
    "    for row in readCSV:\n",
    "        maintenance_cost_list.append(row[1])\n",
    "\n",
    "print(maintenance_cost_list)"
   ]
  },
  {
   "cell_type": "code",
   "execution_count": 43,
   "metadata": {},
   "outputs": [
    {
     "name": "stdout",
     "output_type": "stream",
     "text": [
      "['2', '4', '4', '2', '3', '2', '4', '3', '2', '4', '2', '4', '2', '3', '5more', '2', '2', '5more', '3', '2', '4', '2', '5more', '2', '4', '3', '3', '3', '5more', '5more', '3', '5more', '5more', '4', '3']\n"
     ]
    }
   ],
   "source": [
    "#Creat new number of doors list\n",
    "#getting all third values from each row and creat new list \n",
    "num_door_list=[]\n",
    "\n",
    "import csv\n",
    "with open('/Users/Deano/Desktop/cars-sample35.txt') as csvfile:\n",
    "    readCSV = csv.reader(csvfile)\n",
    "    for row in readCSV:\n",
    "        num_door_list.append(row[2])\n",
    "\n",
    "print(num_door_list)"
   ]
  },
  {
   "cell_type": "code",
   "execution_count": 44,
   "metadata": {},
   "outputs": [
    {
     "name": "stdout",
     "output_type": "stream",
     "text": [
      "['4', 'more', 'more', 'more', '2', '2', 'more', '2', '2', '4', '2', 'more', '4', 'more', '2', 'more', '2', '4', 'more', '2', '2', '2', '4', '2', '4', 'more', '4', '4', '2', '2', '4', '4', '2', '2', '2']\n"
     ]
    }
   ],
   "source": [
    "#Creat new number of passengers list\n",
    "#getting all fourth values from each row and creat new list \n",
    "num_passengers_list=[]\n",
    "\n",
    "import csv\n",
    "with open('/Users/Deano/Desktop/cars-sample35.txt') as csvfile:\n",
    "    readCSV = csv.reader(csvfile)\n",
    "    for row in readCSV:\n",
    "        num_passengers_list.append(row[3])\n",
    "\n",
    "print(num_passengers_list)"
   ]
  },
  {
   "cell_type": "code",
   "execution_count": 45,
   "metadata": {},
   "outputs": [
    {
     "name": "stdout",
     "output_type": "stream",
     "text": [
      "['med', 'small', 'big', 'big', 'med', 'small', 'med', 'big', 'small', 'med', 'med', 'small', 'big', 'big', 'big', 'med', 'small', 'med', 'med', 'big', 'big', 'small', 'med', 'big', 'big', 'big', 'small', 'med', 'big', 'med', 'med', 'med', 'med', 'big', 'big']\n"
     ]
    }
   ],
   "source": [
    "#Creat new luggage capacity list\n",
    "#getting all fifth values from each row and creat new list \n",
    "luggage_capacity_list=[]\n",
    "\n",
    "import csv\n",
    "with open('/Users/Deano/Desktop/cars-sample35.txt') as csvfile:\n",
    "    readCSV = csv.reader(csvfile)\n",
    "    for row in readCSV:\n",
    "        luggage_capacity_list.append(row[4])\n",
    "\n",
    "print(luggage_capacity_list)"
   ]
  },
  {
   "cell_type": "code",
   "execution_count": 46,
   "metadata": {},
   "outputs": [
    {
     "name": "stdout",
     "output_type": "stream",
     "text": [
      "['low', 'high', 'low', 'high', 'med', 'low', 'high', 'med', 'low', 'low', 'med', 'high', 'med', 'low', 'med', 'high', 'low', 'high', 'high', 'med', 'high', 'high', 'med', 'low', 'low', 'low', 'low', 'med', 'low', 'med', 'high', 'med', 'low', 'high', 'high']\n"
     ]
    }
   ],
   "source": [
    "#Creat new safety rating list\n",
    "#getting all sixth values from each row and creat new list \n",
    "safety_rating_list=[]\n",
    "\n",
    "import csv\n",
    "with open('/Users/Deano/Desktop/cars-sample35.txt') as csvfile:\n",
    "    readCSV = csv.reader(csvfile)\n",
    "    for row in readCSV:\n",
    "        safety_rating_list.append(row[5])\n",
    "\n",
    "print(safety_rating_list)"
   ]
  },
  {
   "cell_type": "code",
   "execution_count": 47,
   "metadata": {},
   "outputs": [
    {
     "name": "stdout",
     "output_type": "stream",
     "text": [
      "['unacc', 'acc', 'unacc', 'acc', 'unacc', 'unacc', 'vgood', 'unacc', 'unacc', 'unacc', 'unacc', 'acc', 'acc', 'unacc', 'unacc', 'unacc', 'unacc', 'acc', 'vgood', 'unacc', 'unacc', 'unacc', 'unacc', 'unacc', 'unacc', 'unacc', 'unacc', 'unacc', 'unacc', 'unacc', 'acc', 'unacc', 'unacc', 'unacc', 'unacc']\n"
     ]
    }
   ],
   "source": [
    "#Creat new classification of vehicle list\n",
    "#getting all seventh values from each row and creat new list \n",
    "classification_list=[]\n",
    "\n",
    "import csv\n",
    "with open('/Users/Deano/Desktop/cars-sample35.txt') as csvfile:\n",
    "    readCSV = csv.reader(csvfile)\n",
    "    for row in readCSV:\n",
    "        classification_list.append(row[6])\n",
    "\n",
    "print(classification_list)"
   ]
  },
  {
   "cell_type": "code",
   "execution_count": 48,
   "metadata": {},
   "outputs": [
    {
     "name": "stdout",
     "output_type": "stream",
     "text": [
      "The index value of automobile having medium price rating is: [[6, 16, 20, 23, 26, 29]]\n"
     ]
    }
   ],
   "source": [
    "#task 2- list of index value of each automobile having price rating of \"med\"\n",
    "#reference- https://stackoverflow.com/questions/6294179/how-to-find-all-occurrences-of-an-element-in-a-list\n",
    "medium_list=[]\n",
    "\n",
    "medium_list.append([i for i, n in enumerate(price_list) if n == 'med'])\n",
    "\n",
    "print('The index value of automobile having medium price rating is:', medium_list)"
   ]
  },
  {
   "cell_type": "code",
   "execution_count": 51,
   "metadata": {},
   "outputs": [
    {
     "name": "stdout",
     "output_type": "stream",
     "text": [
      "The number of passengers where automobile price is medium are: ['more', '2', '2', '2', '4', '2']\n"
     ]
    }
   ],
   "source": [
    "#task 3- list of number of passengers where automobile price is medium\n",
    "#Used the index value from the previous task.\n",
    "\n",
    "num_passengers=[]\n",
    "\n",
    "num_passengers.append(num_passengers_list[6])\n",
    "num_passengers.append(num_passengers_list[16])\n",
    "num_passengers.append(num_passengers_list[20])\n",
    "num_passengers.append(num_passengers_list[23])\n",
    "num_passengers.append(num_passengers_list[26])\n",
    "num_passengers.append(num_passengers_list[29])\n",
    "\n",
    "print('The number of passengers where automobile price is medium are:',num_passengers)"
   ]
  },
  {
   "cell_type": "code",
   "execution_count": 68,
   "metadata": {},
   "outputs": [
    {
     "name": "stdout",
     "output_type": "stream",
     "text": [
      "The index value of automobiles that have high price and maintenance value that is not low are: [0, 1, 2, 27, 31]\n"
     ]
    }
   ],
   "source": [
    "#task 4- list of automobiles that have high price and maintenance value that is not low\n",
    "#setting the price as high and maintenance low, then looking for values that are high price and not low maintenance\n",
    "\n",
    "import csv\n",
    "\n",
    "with open('/Users/Deano/Desktop/cars-sample35.txt') as csvfile:\n",
    "    readCSV = csv.reader(csvfile)\n",
    "\n",
    "    price = 'high'\n",
    "    maintenance = 'low'\n",
    "\n",
    "    price_maintenance_list=[]\n",
    "\n",
    "\n",
    "    for index, row in enumerate(readCSV):\n",
    "        if row[0] == price and row[1] != maintenance:\n",
    "            price_maintenance_list.append(index)\n",
    "        \n",
    "print('The index value of automobiles that have high price and maintenance value that is not low are:',price_maintenance_list)"
   ]
  },
  {
   "cell_type": "code",
   "execution_count": 70,
   "metadata": {},
   "outputs": [
    {
     "name": "stdout",
     "output_type": "stream",
     "text": [
      "The index value of automobiles that have two doors and big luggage value are: [3, 12, 19, 23]\n"
     ]
    }
   ],
   "source": [
    "#task 5- list of automobiles that have two doors and big luggage value\n",
    "#setting the price as high and maintenance low, then looking for values that are high price and not low maintenance\n",
    "\n",
    "import csv\n",
    "\n",
    "with open('/Users/Deano/Desktop/cars-sample35.txt') as csvfile:\n",
    "    readCSV = csv.reader(csvfile)\n",
    "\n",
    "    doors = '2'\n",
    "    luggage = 'big'\n",
    "\n",
    "    doors_luggage_list=[]\n",
    "\n",
    "\n",
    "    for index, row in enumerate(readCSV):\n",
    "        if row[2] == doors and row[4] == luggage:\n",
    "            doors_luggage_list.append(index)\n",
    "        \n",
    "print('The index value of automobiles that have two doors and big luggage value are:',doors_luggage_list)"
   ]
  },
  {
   "cell_type": "code",
   "execution_count": 73,
   "metadata": {
    "scrolled": true
   },
   "outputs": [
    {
     "name": "stdout",
     "output_type": "stream",
     "text": [
      "Number of doors as int are: [2, 4, 4, 2, 3, 2, 4, 3, 2, 4, 2, 4, 2, 3, 5, 2, 2, 5, 3, 2, 4, 2, 5, 2, 4, 3, 3, 3, 5, 5, 3, 5, 5, 4, 3]\n",
      "The avg number of doors is: 3.3142857142857145\n"
     ]
    }
   ],
   "source": [
    "#Task 6- list containing only the integer equivalents of the doors values and calculate the average number of doors\n",
    "# creat number of doors list in int only, (replacing '5more' to 5) and calculated the avg number of doors by using the sum of doors divided by the number of records \n",
    "\n",
    "\n",
    "with open('/Users/Deano/Desktop/cars-sample35.txt') as csvfile:\n",
    "    readCSV = csv.reader(csvfile)\n",
    "\n",
    "    num_doors_list = []\n",
    "    \n",
    "    for row in readCSV: \n",
    "       \n",
    "        num_doors = row[2] \n",
    "        \n",
    "        num_doors_list.append(num_doors)  \n",
    "        num_doors_list = [num.replace('5more','5') for num in num_doors_list] \n",
    "    \n",
    "    \n",
    "    \n",
    "    num_doors_list = [int(i) for i in num_doors_list]\n",
    "    print('Number of doors as int are:',num_doors_list)\n",
    "    \n",
    "   \n",
    "    print('The avg number of doors is:', sum(num_doors_list) / float(len(num_doors_list)))"
   ]
  },
  {
   "cell_type": "code",
   "execution_count": null,
   "metadata": {},
   "outputs": [],
   "source": []
  }
 ],
 "metadata": {
  "kernelspec": {
   "display_name": "Python 3",
   "language": "python",
   "name": "python3"
  },
  "language_info": {
   "codemirror_mode": {
    "name": "ipython",
    "version": 3
   },
   "file_extension": ".py",
   "mimetype": "text/x-python",
   "name": "python",
   "nbconvert_exporter": "python",
   "pygments_lexer": "ipython3",
   "version": "3.7.1"
  }
 },
 "nbformat": 4,
 "nbformat_minor": 2
}
