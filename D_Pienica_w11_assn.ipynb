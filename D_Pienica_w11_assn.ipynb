{
 "cells": [
  {
   "cell_type": "code",
   "execution_count": 27,
   "metadata": {},
   "outputs": [],
   "source": [
    "import requests # to make api request\n",
    "import pandas as pd # make pandas df"
   ]
  },
  {
   "cell_type": "code",
   "execution_count": 34,
   "metadata": {},
   "outputs": [],
   "source": [
    "base_url = \"https://api.nytimes.com/svc/movies/v2/reviews/search.json?query=\" # api url\n",
    "movie_list = [\"godfather\",\"aquaman\",\"deadpool\",\"inferno\",\"dumbo\"] # movies we want reviews for \n",
    "apikey = \"T0ImV4SbRiWcTwdOVMrHl36zG97zJIoc\" # api key\n",
    "info_list = [] # stores dictionary of info from api\n",
    "valid_info_keys = ['display_title','mpaa_rating','headline','summary_short','publication_date'] # info we need\n",
    "for movie in movie_list: # for all movies\n",
    "    r = requests.get(base_url + movie + \"&api-key=\" + apikey) # hit api\n",
    "    data = r.json() # get json\n",
    "    info = {} # stores one movie relevant info\n",
    "    for key in data['results'][0]:\n",
    "        if key in valid_info_keys :\n",
    "            info[key] = data['results'][0][key] # store the info\n",
    "    info_list.append(info) # add info to list"
   ]
  },
  {
   "cell_type": "code",
   "execution_count": 35,
   "metadata": {},
   "outputs": [],
   "source": [
    "df = pd.DataFrame(info_list) # make dataframe"
   ]
  },
  {
   "cell_type": "code",
   "execution_count": 36,
   "metadata": {},
   "outputs": [
    {
     "data": {
      "text/html": [
       "<div>\n",
       "<style scoped>\n",
       "    .dataframe tbody tr th:only-of-type {\n",
       "        vertical-align: middle;\n",
       "    }\n",
       "\n",
       "    .dataframe tbody tr th {\n",
       "        vertical-align: top;\n",
       "    }\n",
       "\n",
       "    .dataframe thead th {\n",
       "        text-align: right;\n",
       "    }\n",
       "</style>\n",
       "<table border=\"1\" class=\"dataframe\">\n",
       "  <thead>\n",
       "    <tr style=\"text-align: right;\">\n",
       "      <th></th>\n",
       "      <th>display_title</th>\n",
       "      <th>headline</th>\n",
       "      <th>mpaa_rating</th>\n",
       "      <th>publication_date</th>\n",
       "      <th>summary_short</th>\n",
       "    </tr>\n",
       "  </thead>\n",
       "  <tbody>\n",
       "    <tr>\n",
       "      <th>0</th>\n",
       "      <td>Square Grouper: The Godfathers of Ganja</td>\n",
       "      <td>Adventures in the Drug Trades</td>\n",
       "      <td>R</td>\n",
       "      <td>2011-04-14</td>\n",
       "      <td>“Square Grouper” is a documentary about pot sm...</td>\n",
       "    </tr>\n",
       "    <tr>\n",
       "      <th>1</th>\n",
       "      <td>Aquaman</td>\n",
       "      <td>‘Aquaman’ Review: Our Hero Swims. His Movie Si...</td>\n",
       "      <td>PG-13</td>\n",
       "      <td>2018-12-19</td>\n",
       "      <td>James Wan’s film has Jason Momoa, but even he’...</td>\n",
       "    </tr>\n",
       "    <tr>\n",
       "      <th>2</th>\n",
       "      <td>Deadpool 2</td>\n",
       "      <td>Review: ‘Deadpool 2’ Has More Swearing, Slicin...</td>\n",
       "      <td>R</td>\n",
       "      <td>2018-05-14</td>\n",
       "      <td>This sequel to the 2016 R-rated superhero hit ...</td>\n",
       "    </tr>\n",
       "    <tr>\n",
       "      <th>3</th>\n",
       "      <td>Into the Inferno</td>\n",
       "      <td>Review: ‘Into the Inferno,’ Staring Down the T...</td>\n",
       "      <td></td>\n",
       "      <td>2016-10-27</td>\n",
       "      <td>Werner Herzog’s documentary, a collaboration w...</td>\n",
       "    </tr>\n",
       "    <tr>\n",
       "      <th>4</th>\n",
       "      <td>Dumbo</td>\n",
       "      <td>Review: ‘Dumbo’ Goes Bonkers in Dreamland</td>\n",
       "      <td>PG</td>\n",
       "      <td>2019-03-27</td>\n",
       "      <td>Tim Burton takes this live-action remake of th...</td>\n",
       "    </tr>\n",
       "  </tbody>\n",
       "</table>\n",
       "</div>"
      ],
      "text/plain": [
       "                             display_title  \\\n",
       "0  Square Grouper: The Godfathers of Ganja   \n",
       "1                                  Aquaman   \n",
       "2                               Deadpool 2   \n",
       "3                         Into the Inferno   \n",
       "4                                    Dumbo   \n",
       "\n",
       "                                            headline mpaa_rating  \\\n",
       "0                      Adventures in the Drug Trades           R   \n",
       "1  ‘Aquaman’ Review: Our Hero Swims. His Movie Si...       PG-13   \n",
       "2  Review: ‘Deadpool 2’ Has More Swearing, Slicin...           R   \n",
       "3  Review: ‘Into the Inferno,’ Staring Down the T...               \n",
       "4          Review: ‘Dumbo’ Goes Bonkers in Dreamland          PG   \n",
       "\n",
       "  publication_date                                      summary_short  \n",
       "0       2011-04-14  “Square Grouper” is a documentary about pot sm...  \n",
       "1       2018-12-19  James Wan’s film has Jason Momoa, but even he’...  \n",
       "2       2018-05-14  This sequel to the 2016 R-rated superhero hit ...  \n",
       "3       2016-10-27  Werner Herzog’s documentary, a collaboration w...  \n",
       "4       2019-03-27  Tim Burton takes this live-action remake of th...  "
      ]
     },
     "execution_count": 36,
     "metadata": {},
     "output_type": "execute_result"
    }
   ],
   "source": [
    "df.head(10)"
   ]
  },
  {
   "cell_type": "code",
   "execution_count": null,
   "metadata": {},
   "outputs": [],
   "source": []
  }
 ],
 "metadata": {
  "kernelspec": {
   "display_name": "Python 3",
   "language": "python",
   "name": "python3"
  },
  "language_info": {
   "codemirror_mode": {
    "name": "ipython",
    "version": 3
   },
   "file_extension": ".py",
   "mimetype": "text/x-python",
   "name": "python",
   "nbconvert_exporter": "python",
   "pygments_lexer": "ipython3",
   "version": "3.7.1"
  }
 },
 "nbformat": 4,
 "nbformat_minor": 2
}
