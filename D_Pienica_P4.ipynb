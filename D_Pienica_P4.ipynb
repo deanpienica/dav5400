{
 "cells": [
  {
   "cell_type": "markdown",
   "metadata": {},
   "source": [
    "# Project 4\n",
    "### DAV 5400 Spring 2019-Week 14\n",
    "__Maayan Raviv__\n",
    "<br>\n",
    "__Dean Pienica__\n",
    "<br>\n",
    "<br>\n",
    "_Predictive Modeling with scikit-learn_\n",
    "***"
   ]
  },
  {
   "cell_type": "markdown",
   "metadata": {},
   "source": [
    "This project deals with parcticing predictive analysis and then construct a predictive model using tools available within the scikit-learn library. \n",
    "<br>\n",
    "The data that will be used to demonstrate that is the UCI Mushroom Data Set. In this Project, we’ll use scikit-learn to answer the question:\n",
    "<br>\n",
    "__“Which other attribute (i.e., aside from the poisonous/edible indicator) or attributes are the best predictors of\n",
    "whether a particular mushroom is poisonous or edible?”__\n"
   ]
  },
  {
   "cell_type": "markdown",
   "metadata": {},
   "source": [
    "## Phase 1- Data Frame\n",
    "Please Install the packages bellow using the anconda Pprompt and running the cell. "
   ]
  },
  {
   "cell_type": "code",
   "execution_count": 20,
   "metadata": {},
   "outputs": [
    {
     "name": "stdout",
     "output_type": "stream",
     "text": [
      "Requirement already satisfied: graphviz in ./anaconda3/lib/python3.7/site-packages (0.10.1)\n",
      "Collecting python-graphviz\n",
      "\u001b[31m  Could not find a version that satisfies the requirement python-graphviz (from versions: )\u001b[0m\n",
      "\u001b[31mNo matching distribution found for python-graphviz\u001b[0m\n"
     ]
    }
   ],
   "source": [
    "!pip install graphviz\n",
    "!pip install python-graphviz\n",
    "# Run only once and review it the requirement is statidifed.\n",
    "# use the Anacona Prompt to install python-graphviz"
   ]
  },
  {
   "cell_type": "raw",
   "metadata": {},
   "source": [
    "Import the dataset"
   ]
  },
  {
   "cell_type": "code",
   "execution_count": 21,
   "metadata": {},
   "outputs": [
    {
     "data": {
      "text/html": [
       "<div>\n",
       "<style scoped>\n",
       "    .dataframe tbody tr th:only-of-type {\n",
       "        vertical-align: middle;\n",
       "    }\n",
       "\n",
       "    .dataframe tbody tr th {\n",
       "        vertical-align: top;\n",
       "    }\n",
       "\n",
       "    .dataframe thead th {\n",
       "        text-align: right;\n",
       "    }\n",
       "</style>\n",
       "<table border=\"1\" class=\"dataframe\">\n",
       "  <thead>\n",
       "    <tr style=\"text-align: right;\">\n",
       "      <th></th>\n",
       "      <th>class</th>\n",
       "      <th>cap-shape</th>\n",
       "      <th>cap-surface</th>\n",
       "      <th>cap-color</th>\n",
       "      <th>bruises</th>\n",
       "      <th>odor</th>\n",
       "      <th>gill-attachment</th>\n",
       "      <th>gill-spacing</th>\n",
       "      <th>gill-size</th>\n",
       "      <th>gill-color</th>\n",
       "      <th>...</th>\n",
       "      <th>stalk-surface-below-ring</th>\n",
       "      <th>stalk-color-above-ring</th>\n",
       "      <th>stalk-color-below-ring</th>\n",
       "      <th>veil-type</th>\n",
       "      <th>veil-color</th>\n",
       "      <th>ring-number</th>\n",
       "      <th>ring-type</th>\n",
       "      <th>spore-print-color</th>\n",
       "      <th>population</th>\n",
       "      <th>habitat</th>\n",
       "    </tr>\n",
       "  </thead>\n",
       "  <tbody>\n",
       "    <tr>\n",
       "      <th>0</th>\n",
       "      <td>p</td>\n",
       "      <td>x</td>\n",
       "      <td>s</td>\n",
       "      <td>n</td>\n",
       "      <td>t</td>\n",
       "      <td>p</td>\n",
       "      <td>f</td>\n",
       "      <td>c</td>\n",
       "      <td>n</td>\n",
       "      <td>k</td>\n",
       "      <td>...</td>\n",
       "      <td>s</td>\n",
       "      <td>w</td>\n",
       "      <td>w</td>\n",
       "      <td>p</td>\n",
       "      <td>w</td>\n",
       "      <td>o</td>\n",
       "      <td>p</td>\n",
       "      <td>k</td>\n",
       "      <td>s</td>\n",
       "      <td>u</td>\n",
       "    </tr>\n",
       "    <tr>\n",
       "      <th>1</th>\n",
       "      <td>e</td>\n",
       "      <td>x</td>\n",
       "      <td>s</td>\n",
       "      <td>y</td>\n",
       "      <td>t</td>\n",
       "      <td>a</td>\n",
       "      <td>f</td>\n",
       "      <td>c</td>\n",
       "      <td>b</td>\n",
       "      <td>k</td>\n",
       "      <td>...</td>\n",
       "      <td>s</td>\n",
       "      <td>w</td>\n",
       "      <td>w</td>\n",
       "      <td>p</td>\n",
       "      <td>w</td>\n",
       "      <td>o</td>\n",
       "      <td>p</td>\n",
       "      <td>n</td>\n",
       "      <td>n</td>\n",
       "      <td>g</td>\n",
       "    </tr>\n",
       "    <tr>\n",
       "      <th>2</th>\n",
       "      <td>e</td>\n",
       "      <td>b</td>\n",
       "      <td>s</td>\n",
       "      <td>w</td>\n",
       "      <td>t</td>\n",
       "      <td>l</td>\n",
       "      <td>f</td>\n",
       "      <td>c</td>\n",
       "      <td>b</td>\n",
       "      <td>n</td>\n",
       "      <td>...</td>\n",
       "      <td>s</td>\n",
       "      <td>w</td>\n",
       "      <td>w</td>\n",
       "      <td>p</td>\n",
       "      <td>w</td>\n",
       "      <td>o</td>\n",
       "      <td>p</td>\n",
       "      <td>n</td>\n",
       "      <td>n</td>\n",
       "      <td>m</td>\n",
       "    </tr>\n",
       "    <tr>\n",
       "      <th>3</th>\n",
       "      <td>p</td>\n",
       "      <td>x</td>\n",
       "      <td>y</td>\n",
       "      <td>w</td>\n",
       "      <td>t</td>\n",
       "      <td>p</td>\n",
       "      <td>f</td>\n",
       "      <td>c</td>\n",
       "      <td>n</td>\n",
       "      <td>n</td>\n",
       "      <td>...</td>\n",
       "      <td>s</td>\n",
       "      <td>w</td>\n",
       "      <td>w</td>\n",
       "      <td>p</td>\n",
       "      <td>w</td>\n",
       "      <td>o</td>\n",
       "      <td>p</td>\n",
       "      <td>k</td>\n",
       "      <td>s</td>\n",
       "      <td>u</td>\n",
       "    </tr>\n",
       "    <tr>\n",
       "      <th>4</th>\n",
       "      <td>e</td>\n",
       "      <td>x</td>\n",
       "      <td>s</td>\n",
       "      <td>g</td>\n",
       "      <td>f</td>\n",
       "      <td>n</td>\n",
       "      <td>f</td>\n",
       "      <td>w</td>\n",
       "      <td>b</td>\n",
       "      <td>k</td>\n",
       "      <td>...</td>\n",
       "      <td>s</td>\n",
       "      <td>w</td>\n",
       "      <td>w</td>\n",
       "      <td>p</td>\n",
       "      <td>w</td>\n",
       "      <td>o</td>\n",
       "      <td>e</td>\n",
       "      <td>n</td>\n",
       "      <td>a</td>\n",
       "      <td>g</td>\n",
       "    </tr>\n",
       "  </tbody>\n",
       "</table>\n",
       "<p>5 rows × 23 columns</p>\n",
       "</div>"
      ],
      "text/plain": [
       "  class cap-shape cap-surface cap-color bruises odor gill-attachment  \\\n",
       "0     p         x           s         n       t    p               f   \n",
       "1     e         x           s         y       t    a               f   \n",
       "2     e         b           s         w       t    l               f   \n",
       "3     p         x           y         w       t    p               f   \n",
       "4     e         x           s         g       f    n               f   \n",
       "\n",
       "  gill-spacing gill-size gill-color   ...   stalk-surface-below-ring  \\\n",
       "0            c         n          k   ...                          s   \n",
       "1            c         b          k   ...                          s   \n",
       "2            c         b          n   ...                          s   \n",
       "3            c         n          n   ...                          s   \n",
       "4            w         b          k   ...                          s   \n",
       "\n",
       "  stalk-color-above-ring stalk-color-below-ring veil-type veil-color  \\\n",
       "0                      w                      w         p          w   \n",
       "1                      w                      w         p          w   \n",
       "2                      w                      w         p          w   \n",
       "3                      w                      w         p          w   \n",
       "4                      w                      w         p          w   \n",
       "\n",
       "  ring-number ring-type spore-print-color population habitat  \n",
       "0           o         p                 k          s       u  \n",
       "1           o         p                 n          n       g  \n",
       "2           o         p                 n          n       m  \n",
       "3           o         p                 k          s       u  \n",
       "4           o         e                 n          a       g  \n",
       "\n",
       "[5 rows x 23 columns]"
      ]
     },
     "execution_count": 21,
     "metadata": {},
     "output_type": "execute_result"
    }
   ],
   "source": [
    "import pandas as pd \n",
    "import numpy as np\n",
    "import matplotlib.pyplot as plt\n",
    "from sklearn.metrics import accuracy_score\n",
    "\n",
    "CSV_file_source = \"https://raw.githubusercontent.com/maayan3007/DAV-5400/master/agaricus-lepiota.data\"\n",
    "data = pd.read_csv(\n",
    "    CSV_file_source, \n",
    "    index_col=False, \n",
    "    header=None, \n",
    "    names=['class', 'cap-shape', 'cap-surface', 'cap-color', 'bruises', 'odor', 'gill-attachment', 'gill-spacing', 'gill-size',\n",
    "           'gill-color', 'stalk-shape', 'stalk-root', 'stalk-surface-above-ring', 'stalk-surface-below-ring', 'stalk-color-above-ring',\n",
    "           'stalk-color-below-ring', 'veil-type', 'veil-color', 'ring-number', 'ring-type', 'spore-print-color', 'population', 'habitat'\n",
    "          ])\n",
    "data.head()"
   ]
  },
  {
   "cell_type": "markdown",
   "metadata": {},
   "source": [
    "Creating a new subset from the data frame that includes 3 variables:\n",
    "* Class\n",
    "* Odor\n",
    "* Spore print color\n",
    "* habitat"
   ]
  },
  {
   "cell_type": "code",
   "execution_count": 22,
   "metadata": {},
   "outputs": [
    {
     "data": {
      "text/html": [
       "<div>\n",
       "<style scoped>\n",
       "    .dataframe tbody tr th:only-of-type {\n",
       "        vertical-align: middle;\n",
       "    }\n",
       "\n",
       "    .dataframe tbody tr th {\n",
       "        vertical-align: top;\n",
       "    }\n",
       "\n",
       "    .dataframe thead th {\n",
       "        text-align: right;\n",
       "    }\n",
       "</style>\n",
       "<table border=\"1\" class=\"dataframe\">\n",
       "  <thead>\n",
       "    <tr style=\"text-align: right;\">\n",
       "      <th></th>\n",
       "      <th>class</th>\n",
       "      <th>odor</th>\n",
       "      <th>spore-print-color</th>\n",
       "      <th>habitat</th>\n",
       "    </tr>\n",
       "  </thead>\n",
       "  <tbody>\n",
       "    <tr>\n",
       "      <th>0</th>\n",
       "      <td>p</td>\n",
       "      <td>p</td>\n",
       "      <td>k</td>\n",
       "      <td>u</td>\n",
       "    </tr>\n",
       "    <tr>\n",
       "      <th>1</th>\n",
       "      <td>e</td>\n",
       "      <td>a</td>\n",
       "      <td>n</td>\n",
       "      <td>g</td>\n",
       "    </tr>\n",
       "    <tr>\n",
       "      <th>2</th>\n",
       "      <td>e</td>\n",
       "      <td>l</td>\n",
       "      <td>n</td>\n",
       "      <td>m</td>\n",
       "    </tr>\n",
       "    <tr>\n",
       "      <th>3</th>\n",
       "      <td>p</td>\n",
       "      <td>p</td>\n",
       "      <td>k</td>\n",
       "      <td>u</td>\n",
       "    </tr>\n",
       "    <tr>\n",
       "      <th>4</th>\n",
       "      <td>e</td>\n",
       "      <td>n</td>\n",
       "      <td>n</td>\n",
       "      <td>g</td>\n",
       "    </tr>\n",
       "  </tbody>\n",
       "</table>\n",
       "</div>"
      ],
      "text/plain": [
       "  class odor spore-print-color habitat\n",
       "0     p    p                 k       u\n",
       "1     e    a                 n       g\n",
       "2     e    l                 n       m\n",
       "3     p    p                 k       u\n",
       "4     e    n                 n       g"
      ]
     },
     "execution_count": 22,
     "metadata": {},
     "output_type": "execute_result"
    }
   ],
   "source": [
    "dataset = data[['class', 'odor', 'spore-print-color', 'habitat']].copy()\n",
    "original_dataset = dataset.copy()\n",
    "dataset.head()"
   ]
  },
  {
   "cell_type": "markdown",
   "metadata": {},
   "source": [
    "Performing Null's values check in the subset"
   ]
  },
  {
   "cell_type": "code",
   "execution_count": 23,
   "metadata": {},
   "outputs": [
    {
     "data": {
      "text/plain": [
       "False"
      ]
     },
     "execution_count": 23,
     "metadata": {},
     "output_type": "execute_result"
    }
   ],
   "source": [
    "# Check for any null values in the selected subset of columns\n",
    "dataset.isnull().values.any()"
   ]
  },
  {
   "cell_type": "markdown",
   "metadata": {},
   "source": [
    "Converting the values in the subset into numric values to perform an analysis"
   ]
  },
  {
   "cell_type": "code",
   "execution_count": 24,
   "metadata": {},
   "outputs": [
    {
     "data": {
      "text/html": [
       "<div>\n",
       "<style scoped>\n",
       "    .dataframe tbody tr th:only-of-type {\n",
       "        vertical-align: middle;\n",
       "    }\n",
       "\n",
       "    .dataframe tbody tr th {\n",
       "        vertical-align: top;\n",
       "    }\n",
       "\n",
       "    .dataframe thead th {\n",
       "        text-align: right;\n",
       "    }\n",
       "</style>\n",
       "<table border=\"1\" class=\"dataframe\">\n",
       "  <thead>\n",
       "    <tr style=\"text-align: right;\">\n",
       "      <th></th>\n",
       "      <th>class</th>\n",
       "      <th>odor</th>\n",
       "      <th>spore-print-color</th>\n",
       "      <th>habitat</th>\n",
       "    </tr>\n",
       "  </thead>\n",
       "  <tbody>\n",
       "    <tr>\n",
       "      <th>0</th>\n",
       "      <td>1</td>\n",
       "      <td>p</td>\n",
       "      <td>k</td>\n",
       "      <td>u</td>\n",
       "    </tr>\n",
       "    <tr>\n",
       "      <th>1</th>\n",
       "      <td>0</td>\n",
       "      <td>a</td>\n",
       "      <td>n</td>\n",
       "      <td>g</td>\n",
       "    </tr>\n",
       "    <tr>\n",
       "      <th>2</th>\n",
       "      <td>0</td>\n",
       "      <td>l</td>\n",
       "      <td>n</td>\n",
       "      <td>m</td>\n",
       "    </tr>\n",
       "    <tr>\n",
       "      <th>3</th>\n",
       "      <td>1</td>\n",
       "      <td>p</td>\n",
       "      <td>k</td>\n",
       "      <td>u</td>\n",
       "    </tr>\n",
       "    <tr>\n",
       "      <th>4</th>\n",
       "      <td>0</td>\n",
       "      <td>n</td>\n",
       "      <td>n</td>\n",
       "      <td>g</td>\n",
       "    </tr>\n",
       "  </tbody>\n",
       "</table>\n",
       "</div>"
      ],
      "text/plain": [
       "   class odor spore-print-color habitat\n",
       "0      1    p                 k       u\n",
       "1      0    a                 n       g\n",
       "2      0    l                 n       m\n",
       "3      1    p                 k       u\n",
       "4      0    n                 n       g"
      ]
     },
     "execution_count": 24,
     "metadata": {},
     "output_type": "execute_result"
    }
   ],
   "source": [
    "# Converting to numeric values\n",
    "# Class column\n",
    "class_map = {'p': 1, 'e': 0}\n",
    "dataset['class'] = dataset['class'].map(class_map)\n",
    "dataset.head()"
   ]
  },
  {
   "cell_type": "code",
   "execution_count": 25,
   "metadata": {},
   "outputs": [
    {
     "data": {
      "text/html": [
       "<div>\n",
       "<style scoped>\n",
       "    .dataframe tbody tr th:only-of-type {\n",
       "        vertical-align: middle;\n",
       "    }\n",
       "\n",
       "    .dataframe tbody tr th {\n",
       "        vertical-align: top;\n",
       "    }\n",
       "\n",
       "    .dataframe thead th {\n",
       "        text-align: right;\n",
       "    }\n",
       "</style>\n",
       "<table border=\"1\" class=\"dataframe\">\n",
       "  <thead>\n",
       "    <tr style=\"text-align: right;\">\n",
       "      <th></th>\n",
       "      <th>class</th>\n",
       "      <th>odor</th>\n",
       "      <th>spore-print-color</th>\n",
       "      <th>habitat</th>\n",
       "    </tr>\n",
       "  </thead>\n",
       "  <tbody>\n",
       "    <tr>\n",
       "      <th>0</th>\n",
       "      <td>1</td>\n",
       "      <td>7</td>\n",
       "      <td>0</td>\n",
       "      <td>4</td>\n",
       "    </tr>\n",
       "    <tr>\n",
       "      <th>1</th>\n",
       "      <td>0</td>\n",
       "      <td>0</td>\n",
       "      <td>1</td>\n",
       "      <td>0</td>\n",
       "    </tr>\n",
       "    <tr>\n",
       "      <th>2</th>\n",
       "      <td>0</td>\n",
       "      <td>1</td>\n",
       "      <td>1</td>\n",
       "      <td>2</td>\n",
       "    </tr>\n",
       "    <tr>\n",
       "      <th>3</th>\n",
       "      <td>1</td>\n",
       "      <td>7</td>\n",
       "      <td>0</td>\n",
       "      <td>4</td>\n",
       "    </tr>\n",
       "    <tr>\n",
       "      <th>4</th>\n",
       "      <td>0</td>\n",
       "      <td>6</td>\n",
       "      <td>1</td>\n",
       "      <td>0</td>\n",
       "    </tr>\n",
       "  </tbody>\n",
       "</table>\n",
       "</div>"
      ],
      "text/plain": [
       "   class  odor  spore-print-color  habitat\n",
       "0      1     7                  0        4\n",
       "1      0     0                  1        0\n",
       "2      0     1                  1        2\n",
       "3      1     7                  0        4\n",
       "4      0     6                  1        0"
      ]
     },
     "execution_count": 25,
     "metadata": {},
     "output_type": "execute_result"
    }
   ],
   "source": [
    "# Converting other columns to numeric values\n",
    "# odor almond=a,anise=l,creosote=c,fishy=y,foul=f, musty=m,none=n,pungent=p,spicy=s \n",
    "odor_map = {'a':0, 'l':1, 'c':2, 'y':3, 'f':4, 'm':5, 'n':6, 'p':7, 's':8}\n",
    "dataset['odor'] = dataset['odor'].map(odor_map)\n",
    "\n",
    "# spore-print-color black=k,brown=n,buff=b,chocolate=h,green=r, orange=o,purple=u,white=w,yellow=y \n",
    "color_map = {'k':0, 'n':1, 'b':2, 'h':3, 'r':4, 'o':5, 'u':6, 'w':7, 'y':8}\n",
    "dataset['spore-print-color'] = dataset['spore-print-color'].map(color_map)\n",
    "\n",
    "# habitat grasses=g,leaves=l,meadows=m,paths=p, urban=u,waste=w,woods=d\n",
    "habitat_map = {'g':0, 'l':1, 'm':2, 'p':3, 'u':4, 'w':5, 'd':6}\n",
    "dataset['habitat'] = dataset['habitat'].map(habitat_map)\n",
    "\n",
    "dataset.head()"
   ]
  },
  {
   "cell_type": "markdown",
   "metadata": {},
   "source": [
    "##  Exploratory data analysis\n",
    "we will perform an exploratory data analysis that will review each of the selected variables. "
   ]
  },
  {
   "cell_type": "code",
   "execution_count": 26,
   "metadata": {},
   "outputs": [
    {
     "data": {
      "text/html": [
       "<div>\n",
       "<style scoped>\n",
       "    .dataframe tbody tr th:only-of-type {\n",
       "        vertical-align: middle;\n",
       "    }\n",
       "\n",
       "    .dataframe tbody tr th {\n",
       "        vertical-align: top;\n",
       "    }\n",
       "\n",
       "    .dataframe thead th {\n",
       "        text-align: right;\n",
       "    }\n",
       "</style>\n",
       "<table border=\"1\" class=\"dataframe\">\n",
       "  <thead>\n",
       "    <tr style=\"text-align: right;\">\n",
       "      <th></th>\n",
       "      <th>class</th>\n",
       "      <th>odor</th>\n",
       "      <th>spore-print-color</th>\n",
       "      <th>habitat</th>\n",
       "    </tr>\n",
       "  </thead>\n",
       "  <tbody>\n",
       "    <tr>\n",
       "      <th>count</th>\n",
       "      <td>8124.000000</td>\n",
       "      <td>8124.000000</td>\n",
       "      <td>8124.000000</td>\n",
       "      <td>8124.000000</td>\n",
       "    </tr>\n",
       "    <tr>\n",
       "      <th>mean</th>\n",
       "      <td>0.482029</td>\n",
       "      <td>4.788282</td>\n",
       "      <td>3.062038</td>\n",
       "      <td>3.221073</td>\n",
       "    </tr>\n",
       "    <tr>\n",
       "      <th>std</th>\n",
       "      <td>0.499708</td>\n",
       "      <td>1.983678</td>\n",
       "      <td>2.825308</td>\n",
       "      <td>2.530692</td>\n",
       "    </tr>\n",
       "    <tr>\n",
       "      <th>min</th>\n",
       "      <td>0.000000</td>\n",
       "      <td>0.000000</td>\n",
       "      <td>0.000000</td>\n",
       "      <td>0.000000</td>\n",
       "    </tr>\n",
       "    <tr>\n",
       "      <th>25%</th>\n",
       "      <td>0.000000</td>\n",
       "      <td>4.000000</td>\n",
       "      <td>1.000000</td>\n",
       "      <td>0.000000</td>\n",
       "    </tr>\n",
       "    <tr>\n",
       "      <th>50%</th>\n",
       "      <td>0.000000</td>\n",
       "      <td>6.000000</td>\n",
       "      <td>3.000000</td>\n",
       "      <td>3.000000</td>\n",
       "    </tr>\n",
       "    <tr>\n",
       "      <th>75%</th>\n",
       "      <td>1.000000</td>\n",
       "      <td>6.000000</td>\n",
       "      <td>7.000000</td>\n",
       "      <td>6.000000</td>\n",
       "    </tr>\n",
       "    <tr>\n",
       "      <th>max</th>\n",
       "      <td>1.000000</td>\n",
       "      <td>8.000000</td>\n",
       "      <td>8.000000</td>\n",
       "      <td>6.000000</td>\n",
       "    </tr>\n",
       "  </tbody>\n",
       "</table>\n",
       "</div>"
      ],
      "text/plain": [
       "             class         odor  spore-print-color      habitat\n",
       "count  8124.000000  8124.000000        8124.000000  8124.000000\n",
       "mean      0.482029     4.788282           3.062038     3.221073\n",
       "std       0.499708     1.983678           2.825308     2.530692\n",
       "min       0.000000     0.000000           0.000000     0.000000\n",
       "25%       0.000000     4.000000           1.000000     0.000000\n",
       "50%       0.000000     6.000000           3.000000     3.000000\n",
       "75%       1.000000     6.000000           7.000000     6.000000\n",
       "max       1.000000     8.000000           8.000000     6.000000"
      ]
     },
     "execution_count": 26,
     "metadata": {},
     "output_type": "execute_result"
    }
   ],
   "source": [
    "dataset.astype('int').describe()"
   ]
  },
  {
   "cell_type": "markdown",
   "metadata": {},
   "source": [
    "### Odoe Variable\n",
    "Bellow there is a comparison of the Odor variable with each of the attributs of the class variable.\n",
    "<br>\n",
    "It's cleary show that most cases where the mushroon is pioson where when the odor was foul. \n",
    "<br>\n",
    "Also, in most cases when the the mushroom was edible the odor was defined as none.\n",
    "<br>\n",
    "The Odor attributes are classified as bellow-\n",
    "* almond=a\n",
    "* anise=l\n",
    "* creosote=c\n",
    "* fishy=y\n",
    "* foul=f\n",
    "* musty=m\n",
    "* none=n\n",
    "* pungent=p \n",
    "* spicy=s "
   ]
  },
  {
   "cell_type": "code",
   "execution_count": 27,
   "metadata": {},
   "outputs": [
    {
     "data": {
      "image/png": "[encoded data removed]",
      "text/plain": [
       "<Figure size 648x648 with 9 Axes>"
      ]
     },
     "metadata": {
      "needs_background": "light"
     },
     "output_type": "display_data"
    }
   ],
   "source": [
    "# Attribute Odor  \n",
    "# almond=a,anise=l,creosote=c,fishy=y,foul=f, musty=m,none=n,pungent=p,spicy=s \n",
    "\n",
    "p_counts = dict(original_dataset[original_dataset['class']=='p']['odor'].value_counts())\n",
    "e_counts = dict(original_dataset[original_dataset['class']=='e']['odor'].value_counts())\n",
    "\n",
    "fig, axs = plt.subplots(3, 3, figsize=(9, 9), sharey=True)\n",
    "fig.subplots_adjust(hspace=.3)\n",
    "names = ['Poisonous', 'Edible']\n",
    "\n",
    "p_values = [p_counts.get('p', 0), e_counts.get('p', 0)]\n",
    "axs[0][0].bar(names, p_values)\n",
    "axs[0][0].set_title(\"Odor = Pungent\")\n",
    "\n",
    "a_values = [p_counts.get('a', 0), e_counts.get('a', 0)]\n",
    "axs[0][1].bar(names, a_values)\n",
    "axs[0][1].set_title(\"Odor = Almond\")\n",
    "\n",
    "l_values = [p_counts.get('l', 0), e_counts.get('l', 0)]\n",
    "axs[0][2].bar(names, l_values)\n",
    "axs[0][2].set_title(\"Odor = Anise\")\n",
    "\n",
    "n_values = [p_counts.get('n', 0), e_counts.get('n', 0)]\n",
    "axs[1][0].bar(names, n_values)\n",
    "axs[1][0].set_title(\"Odor = None\")\n",
    "\n",
    "f_values = [p_counts.get('f', 0), e_counts.get('f', 0)]\n",
    "axs[1][1].bar(names, f_values)\n",
    "axs[1][1].set_title(\"Odor = Foul\")\n",
    "\n",
    "c_values = [p_counts.get('c', 0), e_counts.get('c', 0)]\n",
    "axs[1][2].bar(names, c_values)\n",
    "axs[1][2].set_title(\"Odor = Creosote\")\n",
    "\n",
    "y_values = [p_counts.get('y', 0), e_counts.get('y', 0)]\n",
    "axs[2][0].bar(names, y_values)\n",
    "axs[2][0].set_title(\"Odor = Fishy\")\n",
    "\n",
    "s_values = [p_counts.get('s', 0), e_counts.get('s', 0)]\n",
    "axs[2][1].bar(names, s_values)\n",
    "axs[2][1].set_title(\"Odor = Spicy\")\n",
    "\n",
    "m_values = [p_counts.get('m', 0), e_counts.get('m', 0)]\n",
    "axs[2][2].bar(names, m_values)\n",
    "axs[2][2].set_title(\"Odor = Musty\")\n",
    "\n",
    "fig.suptitle('Number of classes per Odor Attribute')\n",
    "plt.show()"
   ]
  },
  {
   "cell_type": "markdown",
   "metadata": {},
   "source": [
    "### Spore Print Variable\n",
    "Bellow there is a comparison of the Spoe Print variable with each of the attributs of the class variable.\n",
    "<br>\n",
    "It's cleary show that most cases where the mushroon is pioson where when the spore print was chocolate. \n",
    "<br>\n",
    "Also, in most cases when the the mushroom was edible the spoe print was black and brown.\n",
    "<br>\n",
    "The Spore Print attributes are classified as bellow-\n",
    "* black=k\n",
    "* brown=n\n",
    "* buff=b\n",
    "* chocolate=h\n",
    "* green=r\n",
    "* orange=o\n",
    "* purple=u\n",
    "* white=w*\n",
    "* yellow=y "
   ]
  },
  {
   "cell_type": "code",
   "execution_count": 28,
   "metadata": {},
   "outputs": [
    {
     "data": {
      "image/png": "[encoded data removed]",
      "text/plain": [
       "<Figure size 648x648 with 9 Axes>"
      ]
     },
     "metadata": {
      "needs_background": "light"
     },
     "output_type": "display_data"
    }
   ],
   "source": [
    "# Attribute spore-print-color\n",
    "# spore-print-color black=k,brown=n,buff=b,chocolate=h,green=r, orange=o,purple=u,white=w,yellow=y \n",
    "\n",
    "p_counts = dict(original_dataset[original_dataset['class']=='p']['spore-print-color'].value_counts())\n",
    "e_counts = dict(original_dataset[original_dataset['class']=='e']['spore-print-color'].value_counts())\n",
    "\n",
    "fig, axs = plt.subplots(3, 3, figsize=(9, 9), sharey=True)\n",
    "fig.subplots_adjust(hspace=.3)\n",
    "names = ['Poisonous', 'Edible']\n",
    "\n",
    "p_values = [p_counts.get('k', 0), e_counts.get('k', 0)]\n",
    "axs[0][0].bar(names, p_values, color='black')\n",
    "axs[0][0].set_title(\"Color = Black\")\n",
    "\n",
    "a_values = [p_counts.get('n', 0), e_counts.get('n', 0)]\n",
    "axs[0][1].bar(names, a_values, color='brown')\n",
    "axs[0][1].set_title(\"Color = Brown\")\n",
    "\n",
    "l_values = [p_counts.get('u', 0), e_counts.get('u', 0)]\n",
    "axs[0][2].bar(names, l_values, color='purple')\n",
    "axs[0][2].set_title(\"Color = Purple\")\n",
    "\n",
    "n_values = [p_counts.get('h', 0), e_counts.get('h', 0)]\n",
    "axs[1][0].bar(names, n_values, color='chocolate')\n",
    "axs[1][0].set_title(\"Color = Chocolate\")\n",
    "\n",
    "f_values = [p_counts.get('w', 0), e_counts.get('w', 0)]\n",
    "axs[1][1].bar(names, f_values, color='white')\n",
    "axs[1][1].set_title(\"Color = White\")\n",
    "\n",
    "c_values = [p_counts.get('r', 0), e_counts.get('r', 0)]\n",
    "axs[1][2].bar(names, c_values, color='green')\n",
    "axs[1][2].set_title(\"Color = Green\")\n",
    "\n",
    "y_values = [p_counts.get('o', 0), e_counts.get('o', 0)]\n",
    "axs[2][0].bar(names, y_values, color='orange')\n",
    "axs[2][0].set_title(\"Color = Orange\")\n",
    "\n",
    "s_values = [p_counts.get('y', 0), e_counts.get('y', 0)]\n",
    "axs[2][1].bar(names, s_values, color='yellow')\n",
    "axs[2][1].set_title(\"Color = Yellow\")\n",
    "\n",
    "m_values = [p_counts.get('b', 0), e_counts.get('b', 0)]\n",
    "axs[2][2].bar(names, m_values, color='#E0AB76')\n",
    "axs[2][2].set_title(\"Color = Buff\")\n",
    "\n",
    "fig.suptitle('Number of classes per Spore Print Attribute')\n",
    "plt.show()"
   ]
  },
  {
   "cell_type": "code",
   "execution_count": 29,
   "metadata": {},
   "outputs": [
    {
     "data": {
      "text/plain": [
       "array(['u', 'g', 'm', 'd', 'p', 'w', 'l'], dtype=object)"
      ]
     },
     "execution_count": 29,
     "metadata": {},
     "output_type": "execute_result"
    }
   ],
   "source": [
    "original_dataset['habitat'].unique()"
   ]
  },
  {
   "cell_type": "markdown",
   "metadata": {},
   "source": [
    "### Habitat Variable\n",
    "Bellow there is a comparison of the Habitat variable with each of the attributs of the class variable.\n",
    "<br>\n",
    "It's cleary show that most cases where the mushroon is pioson where when the habitat was paths. \n",
    "<br>\n",
    "Also, . when the habitat was grass or woods it wad hard to detrimne whetear the mushroom would be poison or not\n",
    "<br>\n",
    "The habitat attributes are classified as bellow-\n",
    "* grasses=g\n",
    "* leaves=l*\n",
    "* meadows=m\n",
    "* paths=p\n",
    "* urban=u \n",
    "* waste=w \n",
    "* woods=d"
   ]
  },
  {
   "cell_type": "code",
   "execution_count": 30,
   "metadata": {},
   "outputs": [
    {
     "data": {
      "image/png": "[encoded data removed]",
      "text/plain": [
       "<Figure size 864x432 with 7 Axes>"
      ]
     },
     "metadata": {
      "needs_background": "light"
     },
     "output_type": "display_data"
    }
   ],
   "source": [
    "# Attribute habitat\n",
    "# habitat grasses=g,leaves=l,meadows=m,paths=p, urban=u,waste=w,woods=d\n",
    "\n",
    "p_counts = dict(original_dataset[original_dataset['class']=='p']['habitat'].value_counts())\n",
    "e_counts = dict(original_dataset[original_dataset['class']=='e']['habitat'].value_counts())\n",
    "\n",
    "fig, axs = plt.subplots(2, 4, figsize=(12, 6), sharey=True)\n",
    "fig.delaxes(axs[1][3])\n",
    "fig.subplots_adjust(hspace=.3)\n",
    "names = ['Poisonous', 'Edible']\n",
    "\n",
    "p_values = [p_counts.get('u', 0), e_counts.get('u', 0)]\n",
    "axs[0][0].bar(names, p_values)\n",
    "axs[0][0].set_title(\"Habitat = Urban\")\n",
    "\n",
    "a_values = [p_counts.get('g', 0), e_counts.get('g', 0)]\n",
    "axs[0][1].bar(names, a_values)\n",
    "axs[0][1].set_title(\"Habitat = Grasses\")\n",
    "\n",
    "l_values = [p_counts.get('m', 0), e_counts.get('m', 0)]\n",
    "axs[0][2].bar(names, l_values)\n",
    "axs[0][2].set_title(\"Habitat = Meadows\")\n",
    "\n",
    "n_values = [p_counts.get('d', 0), e_counts.get('d', 0)]\n",
    "axs[0][3].bar(names, n_values)\n",
    "axs[0][3].set_title(\"Habitat = Woods\")\n",
    "\n",
    "f_values = [p_counts.get('p', 0), e_counts.get('p', 0)]\n",
    "axs[1][0].bar(names, f_values)\n",
    "axs[1][0].set_title(\"Habitat = Paths\")\n",
    "\n",
    "c_values = [p_counts.get('w', 0), e_counts.get('w', 0)]\n",
    "axs[1][1].bar(names, c_values)\n",
    "axs[1][1].set_title(\"Habitat = Waste\")\n",
    "\n",
    "y_values = [p_counts.get('l', 0), e_counts.get('l', 0)]\n",
    "axs[1][2].bar(names, y_values)\n",
    "axs[1][2].set_title(\"Habitat = Leaves\")\n",
    "\n",
    "\n",
    "fig.suptitle('Anything you want - Attribute habitat')\n",
    "plt.show()"
   ]
  },
  {
   "cell_type": "markdown",
   "metadata": {},
   "source": [
    "### Odoe Variable- bar chart\n",
    "Bellow there is a bar chart of the odor attribute that shows the distribution of all values among different classes. \n",
    "<br>\n",
    "In most cases the odor wasn't determined and was none and the mushrooms weren't poisned.\n",
    "<br>\n",
    "Also, most cases where the mushrooms where poisned the odor was foul.\n",
    "<br>\n",
    "The only cases were the mushrrom were non-poisend at all where were the odor was almond or anise. And the only cases where the mushrooms were find only poisoned were where the odor was creosote, fishy, musty, pungent, foul and spicy"
   ]
  },
  {
   "cell_type": "code",
   "execution_count": 31,
   "metadata": {},
   "outputs": [
    {
     "data": {
      "image/png": "[encoded data removed]",
      "text/plain": [
       "<Figure size 720x360 with 1 Axes>"
      ]
     },
     "metadata": {
      "needs_background": "light"
     },
     "output_type": "display_data"
    }
   ],
   "source": [
    "# Attribute Odor       \n",
    "p_counts = dict(original_dataset[original_dataset['class']=='p']['odor'].value_counts())\n",
    "e_counts = dict(original_dataset[original_dataset['class']=='e']['odor'].value_counts())\n",
    "\n",
    "for key in original_dataset['odor'].unique():\n",
    "    if not(key in p_counts.keys()):\n",
    "        p_counts[key]=0\n",
    "    if not(key in e_counts.keys()):\n",
    "        e_counts[key]=0\n",
    "\n",
    "# sort lists\n",
    "poisonous_counts = []\n",
    "edible_counts = []\n",
    "labels = []\n",
    "odor_map = {'a': 'almond','l': 'anise', 'c': 'creosote', 'y': 'fishy', 'f': 'foul', 'm': 'musty', 'n': 'none', 'p': 'pungent', 's': 'spicy' }\n",
    "for key in original_dataset['odor'].unique():\n",
    "    poisonous_counts.append(p_counts[key])\n",
    "    edible_counts.append(e_counts[key])\n",
    "    labels.append(odor_map[key])\n",
    "\n",
    "def autolabel(rects, xpos='center'):\n",
    "    \"\"\"\n",
    "    Attach a text label above each bar in *rects*, displaying its height.\n",
    "\n",
    "    *xpos* indicates which side to place the text w.r.t. the center of\n",
    "    the bar. It can be one of the following {'center', 'right', 'left'}.\n",
    "    \"\"\"\n",
    "\n",
    "    xpos = xpos.lower()  # normalize the case of the parameter\n",
    "    ha = {'center': 'center', 'right': 'left', 'left': 'right'}\n",
    "    offset = {'center': 0.5, 'right': 0, 'left': 1}  # x_txt = x + w*off\n",
    "\n",
    "    for rect in rects:\n",
    "        height = rect.get_height()\n",
    "        plt.text(rect.get_x() + rect.get_width()*offset[xpos], 1.01*height, '{}'.format(height), ha=ha[xpos], va='bottom')\n",
    "           \n",
    "ind = np.arange(len(poisonous_counts))  # the x locations for the groups\n",
    "width = 0.35  # the width of the bars\n",
    "\n",
    "plt.figure(figsize=(10,5))\n",
    "rects1 = plt.bar(ind - width/2, poisonous_counts, width, color='SkyBlue', label='Poisonous')\n",
    "rects2 = plt.bar(ind + width/2, edible_counts, width, color='IndianRed', label='Edible')\n",
    "plt.ylabel('Frequency')\n",
    "plt.xlabel('Odor')\n",
    "plt.title('Odor Distribution')\n",
    "plt.xticks(ind, labels)\n",
    "plt.margins(y=.1)\n",
    "plt.legend()\n",
    "\n",
    "autolabel(rects1, \"left\")\n",
    "autolabel(rects2, \"right\")\n",
    "\n",
    "plt.show()"
   ]
  },
  {
   "cell_type": "markdown",
   "metadata": {},
   "source": [
    "### Spore Print Variable- bar chart\n",
    "Bellow there is a bar chart of the spore print attribute that shows the distribution of all values among different classes. \n",
    "<br>\n",
    "In most cases the where the mushrooms were poisned were when the color sprint was whith or chocolate.\n",
    "Also, most cases where the mushrooms where not poisned were when the color sprint was either black or brown. \n",
    "<br>\n",
    "The only cases were the mushrrom were non-poisend at all where were the color sprint was buff, yellow, ornge and purple. "
   ]
  },
  {
   "cell_type": "code",
   "execution_count": 32,
   "metadata": {},
   "outputs": [
    {
     "data": {
      "image/png": "[encoded data removed]",
      "text/plain": [
       "<Figure size 720x360 with 1 Axes>"
      ]
     },
     "metadata": {
      "needs_background": "light"
     },
     "output_type": "display_data"
    }
   ],
   "source": [
    "# Attribute spore-print-color\n",
    "p_counts = dict(original_dataset[original_dataset['class']=='p']['spore-print-color'].value_counts())\n",
    "e_counts = dict(original_dataset[original_dataset['class']=='e']['spore-print-color'].value_counts())\n",
    "\n",
    "for key in original_dataset['spore-print-color'].unique():\n",
    "    if not(key in p_counts.keys()):\n",
    "        p_counts[key]=0\n",
    "    if not(key in e_counts.keys()):\n",
    "        e_counts[key]=0\n",
    "\n",
    "# sort lists\n",
    "poisonous_counts = []\n",
    "edible_counts = []\n",
    "labels = []\n",
    "color_map = {'k': 'black', 'n': 'brown', 'b': 'buff', 'h': 'chocolate', 'r': 'green', 'o': 'orange', 'u': 'purple', 'w': 'white', 'y':' yellow'}\n",
    "for key in original_dataset['spore-print-color'].unique():\n",
    "    poisonous_counts.append(p_counts[key])\n",
    "    edible_counts.append(e_counts[key])\n",
    "    labels.append(color_map[key])\n",
    "    \n",
    "ind = np.arange(len(poisonous_counts))  # the x locations for the groups\n",
    "width = 0.35  # the width of the bars\n",
    "\n",
    "plt.figure(figsize=(10,5))\n",
    "rects1 = plt.bar(ind - width/2, poisonous_counts, width, color='SkyBlue', label='Poisonous')\n",
    "rects2 = plt.bar(ind + width/2, edible_counts, width, color='IndianRed', label='Edible')\n",
    "plt.ylabel('Frequency')\n",
    "plt.xlabel('Color')\n",
    "plt.title('Spore-print color Distribution')\n",
    "plt.xticks(ind, labels)\n",
    "plt.margins(y=.1)\n",
    "plt.legend()\n",
    "\n",
    "autolabel(rects1, \"left\")\n",
    "autolabel(rects2, \"right\")\n",
    "\n",
    "plt.show()"
   ]
  },
  {
   "cell_type": "markdown",
   "metadata": {},
   "source": [
    "### Habitat Variable- bar chart\n",
    "Bellow there is a bar chart of the Habitat attribute that shows the distribution of all values among different classes. \n",
    "<br>\n",
    "In most cases the where the mushrooms were poisned were when the habitat was woods or paths.\n",
    "Also, most cases where the mushrooms where not poisned were when the habitat was woods or grasses. \n",
    "<br>\n",
    "There were no cases where the mushrooms were only non poisned. "
   ]
  },
  {
   "cell_type": "code",
   "execution_count": 33,
   "metadata": {},
   "outputs": [
    {
     "data": {
      "image/png": "[encoded data removed]",
      "text/plain": [
       "<Figure size 720x360 with 1 Axes>"
      ]
     },
     "metadata": {
      "needs_background": "light"
     },
     "output_type": "display_data"
    }
   ],
   "source": [
    "# Attribute habitat\n",
    "p_counts = dict(original_dataset[original_dataset['class']=='p']['habitat'].value_counts())\n",
    "e_counts = dict(original_dataset[original_dataset['class']=='e']['habitat'].value_counts())\n",
    "\n",
    "for key in original_dataset['habitat'].unique():\n",
    "    if not(key in p_counts.keys()):\n",
    "        p_counts[key]=0\n",
    "    if not(key in e_counts.keys()):\n",
    "        e_counts[key]=0\n",
    "\n",
    "# sort lists\n",
    "poisonous_counts = []\n",
    "edible_counts = []\n",
    "labels = []\n",
    "habitat_map = {'g': 'grasses', 'l': 'leaves', 'm': 'meadows', 'p': 'paths', 'u': 'urban', 'w': 'waste', 'd':'woods'}\n",
    "for key in original_dataset['habitat'].unique():\n",
    "    poisonous_counts.append(p_counts[key])\n",
    "    edible_counts.append(e_counts[key])\n",
    "    labels.append(habitat_map[key])\n",
    "    \n",
    "ind = np.arange(len(poisonous_counts))  # the x locations for the groups\n",
    "width = 0.35  # the width of the bars\n",
    "\n",
    "plt.figure(figsize=(10,5))\n",
    "rects1 = plt.bar(ind - width/2, poisonous_counts, width, color='SkyBlue', label='Poisonous')\n",
    "rects2 = plt.bar(ind + width/2, edible_counts, width, color='IndianRed', label='Edible')\n",
    "plt.ylabel('Frequency')\n",
    "plt.xlabel('Habitat')\n",
    "plt.title('Habitat Distribution')\n",
    "plt.xticks(ind, labels)\n",
    "plt.margins(y=.1)\n",
    "plt.legend()\n",
    "\n",
    "autolabel(rects1, \"left\")\n",
    "autolabel(rects2, \"right\")\n",
    "\n",
    "plt.show()"
   ]
  },
  {
   "cell_type": "markdown",
   "metadata": {},
   "source": [
    "## Part 2- Predictive model\n",
    "we will use decision tree to predict which of the variables is the most predictive wether the mushroom is poisned or not.\n",
    "<br>\n",
    "The training set was defined as 70% of the subset and the rest as the test set. "
   ]
  },
  {
   "cell_type": "code",
   "execution_count": 34,
   "metadata": {},
   "outputs": [
    {
     "name": "stdout",
     "output_type": "stream",
     "text": [
      "5686\n"
     ]
    }
   ],
   "source": [
    "# Shuffle dataset\n",
    "dataset = dataset.sample(frac=1)\n",
    "\n",
    "# Training set (70%)\n",
    "training_set_offset = int(len(dataset)*70/100)\n",
    "print(training_set_offset)\n",
    "\n",
    "x_train = dataset.loc[:training_set_offset, ['odor', 'spore-print-color', 'habitat']].astype(int)\n",
    "y_train = dataset['class'].loc[:training_set_offset].astype(int)\n",
    "\n",
    "# Test set (30%)\n",
    "x_test = dataset.loc[training_set_offset:, ['odor', 'spore-print-color', 'habitat']].astype(int)\n",
    "y_test = dataset['class'].loc[training_set_offset:].astype(int)"
   ]
  },
  {
   "cell_type": "markdown",
   "metadata": {},
   "source": [
    "__Decision Tree__\n",
    "According to the desicion tree the Accuracy of the test set is 99.391% in predictive terms."
   ]
  },
  {
   "cell_type": "code",
   "execution_count": 35,
   "metadata": {},
   "outputs": [
    {
     "name": "stdout",
     "output_type": "stream",
     "text": [
      "Accuracy, training set: 99.773%\n",
      "Accuracy, test set: 99.403%\n"
     ]
    },
    {
     "data": {
      "text/html": [
       "<div>\n",
       "<style scoped>\n",
       "    .dataframe tbody tr th:only-of-type {\n",
       "        vertical-align: middle;\n",
       "    }\n",
       "\n",
       "    .dataframe tbody tr th {\n",
       "        vertical-align: top;\n",
       "    }\n",
       "\n",
       "    .dataframe thead th {\n",
       "        text-align: right;\n",
       "    }\n",
       "</style>\n",
       "<table border=\"1\" class=\"dataframe\">\n",
       "  <thead>\n",
       "    <tr style=\"text-align: right;\">\n",
       "      <th></th>\n",
       "      <th>odor</th>\n",
       "      <th>spore-print-color</th>\n",
       "      <th>habitat</th>\n",
       "    </tr>\n",
       "  </thead>\n",
       "  <tbody>\n",
       "    <tr>\n",
       "      <th>6609</th>\n",
       "      <td>4</td>\n",
       "      <td>7</td>\n",
       "      <td>1</td>\n",
       "    </tr>\n",
       "    <tr>\n",
       "      <th>3535</th>\n",
       "      <td>6</td>\n",
       "      <td>0</td>\n",
       "      <td>6</td>\n",
       "    </tr>\n",
       "    <tr>\n",
       "      <th>3392</th>\n",
       "      <td>6</td>\n",
       "      <td>1</td>\n",
       "      <td>6</td>\n",
       "    </tr>\n",
       "    <tr>\n",
       "      <th>3763</th>\n",
       "      <td>6</td>\n",
       "      <td>0</td>\n",
       "      <td>6</td>\n",
       "    </tr>\n",
       "    <tr>\n",
       "      <th>7146</th>\n",
       "      <td>5</td>\n",
       "      <td>7</td>\n",
       "      <td>6</td>\n",
       "    </tr>\n",
       "  </tbody>\n",
       "</table>\n",
       "</div>"
      ],
      "text/plain": [
       "      odor  spore-print-color  habitat\n",
       "6609     4                  7        1\n",
       "3535     6                  0        6\n",
       "3392     6                  1        6\n",
       "3763     6                  0        6\n",
       "7146     5                  7        6"
      ]
     },
     "execution_count": 35,
     "metadata": {},
     "output_type": "execute_result"
    }
   ],
   "source": [
    "# Let's build decission tree\n",
    "# Decision tree\n",
    "from sklearn.tree import DecisionTreeClassifier\n",
    "tree = DecisionTreeClassifier(random_state=0) #try max_depth = 1..8, from rough to \n",
    "# (very) sensitive model\n",
    "tree.fit(x_train, y_train)\n",
    "print(\"Accuracy, training set: {:.3f}%\".format(tree.score(x_train, y_train)*100))\n",
    "print(\"Accuracy, test set: {:.3f}%\".format(tree.score(x_test, y_test)*100))\n",
    "# And visualizate how decision tree works\n",
    "x_train.head()"
   ]
  },
  {
   "cell_type": "code",
   "execution_count": 36,
   "metadata": {
    "scrolled": true
   },
   "outputs": [
    {
     "ename": "ExecutableNotFound",
     "evalue": "failed to execute ['dot', '-Tsvg'], make sure the Graphviz executables are on your systems' PATH",
     "output_type": "error",
     "traceback": [
      "\u001b[0;31m---------------------------------------------------------------------------\u001b[0m",
      "\u001b[0;31mFileNotFoundError\u001b[0m                         Traceback (most recent call last)",
      "\u001b[0;32m~/anaconda3/lib/python3.7/site-packages/graphviz/backend.py\u001b[0m in \u001b[0;36mrun\u001b[0;34m(cmd, input, capture_output, check, quiet, **kwargs)\u001b[0m\n\u001b[1;32m    146\u001b[0m     \u001b[0;32mtry\u001b[0m\u001b[0;34m:\u001b[0m\u001b[0;34m\u001b[0m\u001b[0;34m\u001b[0m\u001b[0m\n\u001b[0;32m--> 147\u001b[0;31m         \u001b[0mproc\u001b[0m \u001b[0;34m=\u001b[0m \u001b[0msubprocess\u001b[0m\u001b[0;34m.\u001b[0m\u001b[0mPopen\u001b[0m\u001b[0;34m(\u001b[0m\u001b[0mcmd\u001b[0m\u001b[0;34m,\u001b[0m \u001b[0mstartupinfo\u001b[0m\u001b[0;34m=\u001b[0m\u001b[0mget_startupinfo\u001b[0m\u001b[0;34m(\u001b[0m\u001b[0;34m)\u001b[0m\u001b[0;34m,\u001b[0m \u001b[0;34m**\u001b[0m\u001b[0mkwargs\u001b[0m\u001b[0;34m)\u001b[0m\u001b[0;34m\u001b[0m\u001b[0;34m\u001b[0m\u001b[0m\n\u001b[0m\u001b[1;32m    148\u001b[0m     \u001b[0;32mexcept\u001b[0m \u001b[0mOSError\u001b[0m \u001b[0;32mas\u001b[0m \u001b[0me\u001b[0m\u001b[0;34m:\u001b[0m\u001b[0;34m\u001b[0m\u001b[0;34m\u001b[0m\u001b[0m\n",
      "\u001b[0;32m~/anaconda3/lib/python3.7/subprocess.py\u001b[0m in \u001b[0;36m__init__\u001b[0;34m(self, args, bufsize, executable, stdin, stdout, stderr, preexec_fn, close_fds, shell, cwd, env, universal_newlines, startupinfo, creationflags, restore_signals, start_new_session, pass_fds, encoding, errors, text)\u001b[0m\n\u001b[1;32m    768\u001b[0m                                 \u001b[0merrread\u001b[0m\u001b[0;34m,\u001b[0m \u001b[0merrwrite\u001b[0m\u001b[0;34m,\u001b[0m\u001b[0;34m\u001b[0m\u001b[0;34m\u001b[0m\u001b[0m\n\u001b[0;32m--> 769\u001b[0;31m                                 restore_signals, start_new_session)\n\u001b[0m\u001b[1;32m    770\u001b[0m         \u001b[0;32mexcept\u001b[0m\u001b[0;34m:\u001b[0m\u001b[0;34m\u001b[0m\u001b[0;34m\u001b[0m\u001b[0m\n",
      "\u001b[0;32m~/anaconda3/lib/python3.7/subprocess.py\u001b[0m in \u001b[0;36m_execute_child\u001b[0;34m(self, args, executable, preexec_fn, close_fds, pass_fds, cwd, env, startupinfo, creationflags, shell, p2cread, p2cwrite, c2pread, c2pwrite, errread, errwrite, restore_signals, start_new_session)\u001b[0m\n\u001b[1;32m   1515\u001b[0m                             \u001b[0merr_msg\u001b[0m \u001b[0;34m+=\u001b[0m \u001b[0;34m': '\u001b[0m \u001b[0;34m+\u001b[0m \u001b[0mrepr\u001b[0m\u001b[0;34m(\u001b[0m\u001b[0merr_filename\u001b[0m\u001b[0;34m)\u001b[0m\u001b[0;34m\u001b[0m\u001b[0;34m\u001b[0m\u001b[0m\n\u001b[0;32m-> 1516\u001b[0;31m                     \u001b[0;32mraise\u001b[0m \u001b[0mchild_exception_type\u001b[0m\u001b[0;34m(\u001b[0m\u001b[0merrno_num\u001b[0m\u001b[0;34m,\u001b[0m \u001b[0merr_msg\u001b[0m\u001b[0;34m,\u001b[0m \u001b[0merr_filename\u001b[0m\u001b[0;34m)\u001b[0m\u001b[0;34m\u001b[0m\u001b[0;34m\u001b[0m\u001b[0m\n\u001b[0m\u001b[1;32m   1517\u001b[0m                 \u001b[0;32mraise\u001b[0m \u001b[0mchild_exception_type\u001b[0m\u001b[0;34m(\u001b[0m\u001b[0merr_msg\u001b[0m\u001b[0;34m)\u001b[0m\u001b[0;34m\u001b[0m\u001b[0;34m\u001b[0m\u001b[0m\n",
      "\u001b[0;31mFileNotFoundError\u001b[0m: [Errno 2] No such file or directory: 'dot': 'dot'",
      "\nDuring handling of the above exception, another exception occurred:\n",
      "\u001b[0;31mExecutableNotFound\u001b[0m                        Traceback (most recent call last)",
      "\u001b[0;32m~/anaconda3/lib/python3.7/site-packages/IPython/core/formatters.py\u001b[0m in \u001b[0;36m__call__\u001b[0;34m(self, obj)\u001b[0m\n\u001b[1;32m    343\u001b[0m             \u001b[0mmethod\u001b[0m \u001b[0;34m=\u001b[0m \u001b[0mget_real_method\u001b[0m\u001b[0;34m(\u001b[0m\u001b[0mobj\u001b[0m\u001b[0;34m,\u001b[0m \u001b[0mself\u001b[0m\u001b[0;34m.\u001b[0m\u001b[0mprint_method\u001b[0m\u001b[0;34m)\u001b[0m\u001b[0;34m\u001b[0m\u001b[0;34m\u001b[0m\u001b[0m\n\u001b[1;32m    344\u001b[0m             \u001b[0;32mif\u001b[0m \u001b[0mmethod\u001b[0m \u001b[0;32mis\u001b[0m \u001b[0;32mnot\u001b[0m \u001b[0;32mNone\u001b[0m\u001b[0;34m:\u001b[0m\u001b[0;34m\u001b[0m\u001b[0;34m\u001b[0m\u001b[0m\n\u001b[0;32m--> 345\u001b[0;31m                 \u001b[0;32mreturn\u001b[0m \u001b[0mmethod\u001b[0m\u001b[0;34m(\u001b[0m\u001b[0;34m)\u001b[0m\u001b[0;34m\u001b[0m\u001b[0;34m\u001b[0m\u001b[0m\n\u001b[0m\u001b[1;32m    346\u001b[0m             \u001b[0;32mreturn\u001b[0m \u001b[0;32mNone\u001b[0m\u001b[0;34m\u001b[0m\u001b[0;34m\u001b[0m\u001b[0m\n\u001b[1;32m    347\u001b[0m         \u001b[0;32melse\u001b[0m\u001b[0;34m:\u001b[0m\u001b[0;34m\u001b[0m\u001b[0;34m\u001b[0m\u001b[0m\n",
      "\u001b[0;32m~/anaconda3/lib/python3.7/site-packages/graphviz/files.py\u001b[0m in \u001b[0;36m_repr_svg_\u001b[0;34m(self)\u001b[0m\n\u001b[1;32m    104\u001b[0m \u001b[0;34m\u001b[0m\u001b[0m\n\u001b[1;32m    105\u001b[0m     \u001b[0;32mdef\u001b[0m \u001b[0m_repr_svg_\u001b[0m\u001b[0;34m(\u001b[0m\u001b[0mself\u001b[0m\u001b[0;34m)\u001b[0m\u001b[0;34m:\u001b[0m\u001b[0;34m\u001b[0m\u001b[0;34m\u001b[0m\u001b[0m\n\u001b[0;32m--> 106\u001b[0;31m         \u001b[0;32mreturn\u001b[0m \u001b[0mself\u001b[0m\u001b[0;34m.\u001b[0m\u001b[0mpipe\u001b[0m\u001b[0;34m(\u001b[0m\u001b[0mformat\u001b[0m\u001b[0;34m=\u001b[0m\u001b[0;34m'svg'\u001b[0m\u001b[0;34m)\u001b[0m\u001b[0;34m.\u001b[0m\u001b[0mdecode\u001b[0m\u001b[0;34m(\u001b[0m\u001b[0mself\u001b[0m\u001b[0;34m.\u001b[0m\u001b[0m_encoding\u001b[0m\u001b[0;34m)\u001b[0m\u001b[0;34m\u001b[0m\u001b[0;34m\u001b[0m\u001b[0m\n\u001b[0m\u001b[1;32m    107\u001b[0m \u001b[0;34m\u001b[0m\u001b[0m\n\u001b[1;32m    108\u001b[0m     \u001b[0;32mdef\u001b[0m \u001b[0mpipe\u001b[0m\u001b[0;34m(\u001b[0m\u001b[0mself\u001b[0m\u001b[0;34m,\u001b[0m \u001b[0mformat\u001b[0m\u001b[0;34m=\u001b[0m\u001b[0;32mNone\u001b[0m\u001b[0;34m,\u001b[0m \u001b[0mrenderer\u001b[0m\u001b[0;34m=\u001b[0m\u001b[0;32mNone\u001b[0m\u001b[0;34m,\u001b[0m \u001b[0mformatter\u001b[0m\u001b[0;34m=\u001b[0m\u001b[0;32mNone\u001b[0m\u001b[0;34m)\u001b[0m\u001b[0;34m:\u001b[0m\u001b[0;34m\u001b[0m\u001b[0;34m\u001b[0m\u001b[0m\n",
      "\u001b[0;32m~/anaconda3/lib/python3.7/site-packages/graphviz/files.py\u001b[0m in \u001b[0;36mpipe\u001b[0;34m(self, format, renderer, formatter)\u001b[0m\n\u001b[1;32m    126\u001b[0m         \u001b[0mdata\u001b[0m \u001b[0;34m=\u001b[0m \u001b[0mtext_type\u001b[0m\u001b[0;34m(\u001b[0m\u001b[0mself\u001b[0m\u001b[0;34m.\u001b[0m\u001b[0msource\u001b[0m\u001b[0;34m)\u001b[0m\u001b[0;34m.\u001b[0m\u001b[0mencode\u001b[0m\u001b[0;34m(\u001b[0m\u001b[0mself\u001b[0m\u001b[0;34m.\u001b[0m\u001b[0m_encoding\u001b[0m\u001b[0;34m)\u001b[0m\u001b[0;34m\u001b[0m\u001b[0;34m\u001b[0m\u001b[0m\n\u001b[1;32m    127\u001b[0m \u001b[0;34m\u001b[0m\u001b[0m\n\u001b[0;32m--> 128\u001b[0;31m         \u001b[0mout\u001b[0m \u001b[0;34m=\u001b[0m \u001b[0mbackend\u001b[0m\u001b[0;34m.\u001b[0m\u001b[0mpipe\u001b[0m\u001b[0;34m(\u001b[0m\u001b[0mself\u001b[0m\u001b[0;34m.\u001b[0m\u001b[0m_engine\u001b[0m\u001b[0;34m,\u001b[0m \u001b[0mformat\u001b[0m\u001b[0;34m,\u001b[0m \u001b[0mdata\u001b[0m\u001b[0;34m,\u001b[0m \u001b[0mrenderer\u001b[0m\u001b[0;34m,\u001b[0m \u001b[0mformatter\u001b[0m\u001b[0;34m)\u001b[0m\u001b[0;34m\u001b[0m\u001b[0;34m\u001b[0m\u001b[0m\n\u001b[0m\u001b[1;32m    129\u001b[0m \u001b[0;34m\u001b[0m\u001b[0m\n\u001b[1;32m    130\u001b[0m         \u001b[0;32mreturn\u001b[0m \u001b[0mout\u001b[0m\u001b[0;34m\u001b[0m\u001b[0;34m\u001b[0m\u001b[0m\n",
      "\u001b[0;32m~/anaconda3/lib/python3.7/site-packages/graphviz/backend.py\u001b[0m in \u001b[0;36mpipe\u001b[0;34m(engine, format, data, renderer, formatter, quiet)\u001b[0m\n\u001b[1;32m    204\u001b[0m     \"\"\"\n\u001b[1;32m    205\u001b[0m     \u001b[0mcmd\u001b[0m\u001b[0;34m,\u001b[0m \u001b[0m_\u001b[0m \u001b[0;34m=\u001b[0m \u001b[0mcommand\u001b[0m\u001b[0;34m(\u001b[0m\u001b[0mengine\u001b[0m\u001b[0;34m,\u001b[0m \u001b[0mformat\u001b[0m\u001b[0;34m,\u001b[0m \u001b[0;32mNone\u001b[0m\u001b[0;34m,\u001b[0m \u001b[0mrenderer\u001b[0m\u001b[0;34m,\u001b[0m \u001b[0mformatter\u001b[0m\u001b[0;34m)\u001b[0m\u001b[0;34m\u001b[0m\u001b[0;34m\u001b[0m\u001b[0m\n\u001b[0;32m--> 206\u001b[0;31m     \u001b[0mout\u001b[0m\u001b[0;34m,\u001b[0m \u001b[0m_\u001b[0m \u001b[0;34m=\u001b[0m \u001b[0mrun\u001b[0m\u001b[0;34m(\u001b[0m\u001b[0mcmd\u001b[0m\u001b[0;34m,\u001b[0m \u001b[0minput\u001b[0m\u001b[0;34m=\u001b[0m\u001b[0mdata\u001b[0m\u001b[0;34m,\u001b[0m \u001b[0mcapture_output\u001b[0m\u001b[0;34m=\u001b[0m\u001b[0;32mTrue\u001b[0m\u001b[0;34m,\u001b[0m \u001b[0mcheck\u001b[0m\u001b[0;34m=\u001b[0m\u001b[0;32mTrue\u001b[0m\u001b[0;34m,\u001b[0m \u001b[0mquiet\u001b[0m\u001b[0;34m=\u001b[0m\u001b[0mquiet\u001b[0m\u001b[0;34m)\u001b[0m\u001b[0;34m\u001b[0m\u001b[0;34m\u001b[0m\u001b[0m\n\u001b[0m\u001b[1;32m    207\u001b[0m     \u001b[0;32mreturn\u001b[0m \u001b[0mout\u001b[0m\u001b[0;34m\u001b[0m\u001b[0;34m\u001b[0m\u001b[0m\n\u001b[1;32m    208\u001b[0m \u001b[0;34m\u001b[0m\u001b[0m\n",
      "\u001b[0;32m~/anaconda3/lib/python3.7/site-packages/graphviz/backend.py\u001b[0m in \u001b[0;36mrun\u001b[0;34m(cmd, input, capture_output, check, quiet, **kwargs)\u001b[0m\n\u001b[1;32m    148\u001b[0m     \u001b[0;32mexcept\u001b[0m \u001b[0mOSError\u001b[0m \u001b[0;32mas\u001b[0m \u001b[0me\u001b[0m\u001b[0;34m:\u001b[0m\u001b[0;34m\u001b[0m\u001b[0;34m\u001b[0m\u001b[0m\n\u001b[1;32m    149\u001b[0m         \u001b[0;32mif\u001b[0m \u001b[0me\u001b[0m\u001b[0;34m.\u001b[0m\u001b[0merrno\u001b[0m \u001b[0;34m==\u001b[0m \u001b[0merrno\u001b[0m\u001b[0;34m.\u001b[0m\u001b[0mENOENT\u001b[0m\u001b[0;34m:\u001b[0m\u001b[0;34m\u001b[0m\u001b[0;34m\u001b[0m\u001b[0m\n\u001b[0;32m--> 150\u001b[0;31m             \u001b[0;32mraise\u001b[0m \u001b[0mExecutableNotFound\u001b[0m\u001b[0;34m(\u001b[0m\u001b[0mcmd\u001b[0m\u001b[0;34m)\u001b[0m\u001b[0;34m\u001b[0m\u001b[0;34m\u001b[0m\u001b[0m\n\u001b[0m\u001b[1;32m    151\u001b[0m         \u001b[0;32melse\u001b[0m\u001b[0;34m:\u001b[0m  \u001b[0;31m# pragma: no cover\u001b[0m\u001b[0;34m\u001b[0m\u001b[0;34m\u001b[0m\u001b[0m\n\u001b[1;32m    152\u001b[0m             \u001b[0;32mraise\u001b[0m\u001b[0;34m\u001b[0m\u001b[0;34m\u001b[0m\u001b[0m\n",
      "\u001b[0;31mExecutableNotFound\u001b[0m: failed to execute ['dot', '-Tsvg'], make sure the Graphviz executables are on your systems' PATH"
     ]
    },
    {
     "data": {
      "text/plain": [
       "<graphviz.files.Source at 0x1a1bfeb6a0>"
      ]
     },
     "execution_count": 36,
     "metadata": {},
     "output_type": "execute_result"
    }
   ],
   "source": [
    "from sklearn.tree import export_graphviz\n",
    "export_graphviz(tree, out_file=\"tree.dot\", class_names = [\"edible\", \"poisonous\"],   \n",
    "                feature_names = ['odor', 'spore-print-color', 'habitat'], impurity=False, \n",
    "                filled=True)\n",
    "import graphviz\n",
    "with open(\"./tree.dot\", 'r') as file:\n",
    "    dot_graph = file.read()\n",
    "graphviz.Source(dot_graph)"
   ]
  },
  {
   "cell_type": "markdown",
   "metadata": {},
   "source": [
    "Bellow we reviwed the accuracy of each of the variables as a predicatble variable for the class attribute.\n",
    "The Odor variable was dtermined as the best predictable. \n",
    "For further analysis we will recommend to check the accuracy on a larger set and to approve the conclusion bellow regardless to the other variables in different conditions.\n",
    "Also we will recommend to review the sprint color which also seem to be a good predictble.\n",
    "Those results are well detrmined in the explantory analysis that we did before as well. "
   ]
  },
  {
   "cell_type": "code",
   "execution_count": 37,
   "metadata": {},
   "outputs": [
    {
     "name": "stdout",
     "output_type": "stream",
     "text": [
      "Only odor - Accuracy, training set: 98.549%\n",
      "Only odor - Accuracy, test set: 98.407%\n",
      "Only spore-print-color - Accuracy, training set: 87.307%\n",
      "Only spore-print-color - Accuracy, test set: 84.539%\n",
      "Only habitat - Accuracy, training set: 69.084%\n",
      "Only habitat - Accuracy, test set: 68.812%\n"
     ]
    }
   ],
   "source": [
    "# Let's do a quick test to see with feature allows us to predict the nature of mushroom more accurately. \n",
    "# To check this, lets create another set of decission trees by selecting one feature at a time. \n",
    "# odor\n",
    "tree = DecisionTreeClassifier(random_state=0)\n",
    "tree.fit(x_train[['odor']], y_train)\n",
    "print(\"Only odor - Accuracy, training set: {:.3f}%\".format(tree.score(x_train[['odor']], y_train)*100))\n",
    "print(\"Only odor - Accuracy, test set: {:.3f}%\".format(tree.score(x_test[['odor']], y_test)*100))\n",
    "\n",
    "# spore-print-color\n",
    "tree = DecisionTreeClassifier(random_state=0)\n",
    "tree.fit(x_train[['spore-print-color']], y_train)\n",
    "print(\"Only spore-print-color - Accuracy, training set: {:.3f}%\".format(tree.score(x_train[['spore-print-color']], y_train)*100))\n",
    "print(\"Only spore-print-color - Accuracy, test set: {:.3f}%\".format(tree.score(x_test[['spore-print-color']], y_test)*100))\n",
    "\n",
    "# habitat\n",
    "tree = DecisionTreeClassifier(random_state=0)\n",
    "tree.fit(x_train[['habitat']], y_train)\n",
    "print(\"Only habitat - Accuracy, training set: {:.3f}%\".format(tree.score(x_train[['habitat']], y_train)*100))\n",
    "print(\"Only habitat - Accuracy, test set: {:.3f}%\".format(tree.score(x_test[['habitat']], y_test)*100))"
   ]
  },
  {
   "cell_type": "code",
   "execution_count": null,
   "metadata": {},
   "outputs": [],
   "source": []
  },
  {
   "cell_type": "code",
   "execution_count": null,
   "metadata": {},
   "outputs": [],
   "source": []
  }
 ],
 "metadata": {
  "kernelspec": {
   "display_name": "Python 3",
   "language": "python",
   "name": "python3"
  },
  "language_info": {
   "codemirror_mode": {
    "name": "ipython",
    "version": 3
   },
   "file_extension": ".py",
   "mimetype": "text/x-python",
   "name": "python",
   "nbconvert_exporter": "python",
   "pygments_lexer": "ipython3",
   "version": "3.7.1"
  }
 },
 "nbformat": 4,
 "nbformat_minor": 2
}
