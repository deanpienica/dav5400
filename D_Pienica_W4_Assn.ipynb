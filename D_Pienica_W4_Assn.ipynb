{
 "cells": [
  {
   "cell_type": "code",
   "execution_count": 1,
   "metadata": {},
   "outputs": [],
   "source": [
    "import numpy as np"
   ]
  },
  {
   "cell_type": "markdown",
   "metadata": {},
   "source": [
    "### Question 1"
   ]
  },
  {
   "cell_type": "markdown",
   "metadata": {},
   "source": [
    "Write a Python/NumPy code block that finds the distinct/unique common items between these two arrays:\n",
    "\n",
    "\n",
    "a = np.array([1, 2, 3, 2, 3, 4, 3, 4, 5, 6])\n",
    "\n",
    "\n",
    "b = np.array([7, 2, 10, 2, 7, 4, 9, 4, 9, 8])\n",
    "\n",
    "\n",
    "\n",
    "Your output should contain only the distinct overlapping values. For example, if a 2 is found in both array a and array b,\n",
    "your output should contain only one 2 even if array a contains more than one 2 within it."
   ]
  },
  {
   "cell_type": "code",
   "execution_count": 2,
   "metadata": {},
   "outputs": [
    {
     "name": "stdout",
     "output_type": "stream",
     "text": [
      "Intersect values are :  [2 4]\n"
     ]
    }
   ],
   "source": [
    "a = np.array([1, 2, 3, 2, 3, 4, 3, 4, 5, 6]) # A array \n",
    "b = np.array([7, 2, 10, 2, 7, 4, 9, 4, 9, 8]) # B Array\n",
    "\n",
    "# Solution is using intersect1 dimentional function which intersects between the two arrays of 1 dimention\n",
    "intersect_values = np.intersect1d(a,b)\n",
    "print(\"Intersect values are : \", intersect_values)"
   ]
  },
  {
   "cell_type": "markdown",
   "metadata": {},
   "source": [
    "### Question 2"
   ]
  },
  {
   "cell_type": "markdown",
   "metadata": {},
   "source": [
    "2. Create the following 5x3 array using knowledge you have of Python’s / NumPy’s sequencing functionality so that you\n",
    "do not need to explicitly key in every integer value.\n",
    "\n",
    "1 6 11\n",
    "\n",
    "2 7 12\n",
    "\n",
    "3 8 13\n",
    "\n",
    "4 9 14\n",
    "\n",
    "5 10 15"
   ]
  },
  {
   "cell_type": "code",
   "execution_count": 3,
   "metadata": {},
   "outputs": [
    {
     "data": {
      "text/plain": [
       "array([[ 1,  2,  3],\n",
       "       [ 4,  5,  6],\n",
       "       [ 7,  8,  9],\n",
       "       [10, 11, 12],\n",
       "       [13, 14, 15]])"
      ]
     },
     "execution_count": 3,
     "metadata": {},
     "output_type": "execute_result"
    }
   ],
   "source": [
    "array = np.arange(1,16) # A range of arrays from 1 to 15 (16 is exclusive)\n",
    "array = np.reshape(array, (5,3)) # Reshaping the array to 5 x3 dimention \n",
    "array"
   ]
  },
  {
   "cell_type": "markdown",
   "metadata": {},
   "source": [
    "### Question 3"
   ]
  },
  {
   "cell_type": "markdown",
   "metadata": {},
   "source": [
    "You are given the following two arrays:\n",
    "\n",
    "a = np.array([12, 5, 7, 15, 3, 1, 8])\n",
    "\n",
    "b = np.array([14, 6, 3, 11, 19, 12, 5])\n",
    "\n",
    "Write a Python/Numpy code block that removes from array a any items that are also present in array b.\n",
    "\n"
   ]
  },
  {
   "cell_type": "code",
   "execution_count": 4,
   "metadata": {},
   "outputs": [
    {
     "name": "stdout",
     "output_type": "stream",
     "text": [
      "Removing elements of B from A is : [ 1  7  8 15]\n"
     ]
    }
   ],
   "source": [
    "a = np.array([12, 5, 7, 15, 3, 1, 8])\n",
    "b = np.array([14, 6, 3, 11, 19, 12, 5])\n",
    "# Solution using Numpy set difference between 1 D arrays function \n",
    "\n",
    "array = np.setdiff1d(a , b)\n",
    "print(\"Removing elements of B from A is :\", array)"
   ]
  },
  {
   "cell_type": "markdown",
   "metadata": {},
   "source": [
    "#### Question 4"
   ]
  },
  {
   "cell_type": "markdown",
   "metadata": {},
   "source": [
    "Suppose you have ridden a bicycle from New York City to Key West, Florida. Your bicycle odometer shows the total\n",
    "miles you have travelled thus far, which you make a note of each day with paper and pencil. Your first two entries might\n",
    "be ‘55’ and ‘120’, indicating that you rode your bike 55 miles on day 1 and 65 miles on day 2. Your task is to create a\n",
    "NumPy array wherein you can record the cumulative miles you recorded each day during your trip. Then use your\n",
    "Python skills to show the total miles that you rode each day. Assume the trip took a total of 35 days and included at\n",
    "least 4 non-consecutive days where no cycling was possible due to either weather conditions or personal\n",
    "fatigue/soreness. For the remaining 31 days, you would have covered the entire distance between NYC and Key West.\n",
    "Complete your work within your Jupyter Notebook for this assignment and be sure to include a writeup explaining your\n",
    "approach to this problem, including the ways in which you decided to make use of NumPy."
   ]
  },
  {
   "cell_type": "code",
   "execution_count": 5,
   "metadata": {},
   "outputs": [],
   "source": [
    "ridden_bicycle_miles = np.array([55,65]) # keep adding additional miles as per days , for holidy add zero"
   ]
  },
  {
   "cell_type": "markdown",
   "metadata": {},
   "source": [
    "#####  We need 33 more day based  miles  covered (where 4 days covered miles would be 0 as those days would be off)\n",
    "* so we use random function to get the integers based mile values and later onward we add a % 35 % 4 condition to add 0 (as off day there)\n",
    "\n"
   ]
  },
  {
   "cell_type": "code",
   "execution_count": 6,
   "metadata": {},
   "outputs": [],
   "source": [
    "# Adding Randomly the elements or miles ridden \n",
    "random_miles = np.random.randint(30,65, size = 33) # 33 elements\n",
    "\n",
    "# Ridden bicycle miles are being created by appending the random miles at the end of the numpy list \n",
    "ridden_bicycle_miles = np.append(ridden_bicycle_miles , random_miles)\n"
   ]
  },
  {
   "cell_type": "code",
   "execution_count": 15,
   "metadata": {},
   "outputs": [],
   "source": [
    "# Looping through all the elements and speifing zero where the day is termed as off\n",
    "for index, array_value in enumerate(ridden_bicycle_miles):\n",
    "    if index+1  % (35//4) == 0:\n",
    "        print(\"Yes\")\n",
    "        # The reason to do 35/4 is because we will have 4 days off\n",
    "        ridden_bicycle_miles[index] = 0 # replacing the value with zero"
   ]
  },
  {
   "cell_type": "code",
   "execution_count": 16,
   "metadata": {},
   "outputs": [
    {
     "data": {
      "text/plain": [
       "array([ 0, 65, 50, 42, 40, 34, 38, 62,  0, 56, 63, 52, 52, 58, 33, 35,  0,\n",
       "       49, 49, 37, 51, 51, 30, 43,  0, 40, 37, 39, 47, 49, 62, 34,  0, 46,\n",
       "       48])"
      ]
     },
     "execution_count": 16,
     "metadata": {},
     "output_type": "execute_result"
    }
   ],
   "source": [
    "ridden_bicycle_miles"
   ]
  },
  {
   "cell_type": "code",
   "execution_count": 17,
   "metadata": {
    "scrolled": true
   },
   "outputs": [
    {
     "name": "stdout",
     "output_type": "stream",
     "text": [
      "Trip cumulative miles list are : [   0   65  115  157  197  231  269  331  331  387  450  502  554  612\n",
      "  645  680  680  729  778  815  866  917  947  990  990 1030 1067 1106\n",
      " 1153 1202 1264 1298 1298 1344 1392]\n"
     ]
    }
   ],
   "source": [
    "# For this solution, it requires cummulative frequency distribution\n",
    "cummulative_frequencies = np.cumsum(ridden_bicycle_miles)\n",
    "print(\"Trip cumulative miles list are :\", cummulative_frequencies)"
   ]
  },
  {
   "cell_type": "markdown",
   "metadata": {},
   "source": [
    "### Question 5"
   ]
  },
  {
   "cell_type": "markdown",
   "metadata": {},
   "source": [
    "Open the Jupyter Notebook provided to you with this assignment. The first code block within that file will load a\n",
    "small data set from a GitHub repository into a NumPy 2D array. The original source of that data contains an overview of\n",
    "its contents:\n",
    "https://data.cityofnewyork.us/Environment/Water-Consumption-In-The-New-York-City/ia2d-e54m\n",
    "Scroll down to the bottom of that page to access an interactive data viewer that includes the column headings for the\n",
    "data.\n",
    "Using the NumPy array that has been loaded for you in the Jupyter Notebook, answer the following questions using\n",
    "NumPy’s slicing, methods, and functions:\n",
    "\n",
    "\n",
    " What is the maximum yearly NYC consumption of water in millions of gallons per day?\n",
    "\n",
    "\n",
    " How many calendar years are represented within this data set? NumPy's shape command is one way to find\n",
    "out.\n",
    "\n",
    "\n",
    " What is the mean and the standard deviation of the per capita daily water consumption?\n",
    "\n",
    "\n",
    " What is the increase or decrease in population from year to year? Use NumPy's `diff` function to create an array\n",
    "of differences and save that to a variable called \"pop_diff\", then print that variable to the screen."
   ]
  },
  {
   "cell_type": "code",
   "execution_count": 10,
   "metadata": {
    "collapsed": true
   },
   "outputs": [
    {
     "name": "stderr",
     "output_type": "stream",
     "text": [
      "c:\\users\\m shafay amjad\\appdata\\local\\programs\\python\\python36\\lib\\site-packages\\ipykernel_launcher.py:7: FutureWarning: Method .as_matrix will be removed in a future version. Use .values instead.\n",
      "  import sys\n"
     ]
    },
    {
     "data": {
      "text/plain": [
       "numpy.ndarray"
      ]
     },
     "execution_count": 10,
     "metadata": {},
     "output_type": "execute_result"
    }
   ],
   "source": [
    "import pandas\n",
    "\n",
    "# supress scientific notation\n",
    "np.set_printoptions(suppress = True)\n",
    "\n",
    "# read the data file from GitHub and convert to a NumPy ndarray object\n",
    "nyc_water = pandas.read_csv('https://raw.githubusercontent.com/jtopor/DAV-5400/master/Week4/Water_Consumption_In_The_New_York_City.csv').as_matrix()\n",
    "\n",
    "# verify you have an ndarray object\n",
    "type(nyc_water)"
   ]
  },
  {
   "cell_type": "code",
   "execution_count": 16,
   "metadata": {},
   "outputs": [
    {
     "data": {
      "text/plain": [
       "array([[   1979. , 7102100. ,    1512. ,     213. ],\n",
       "       [   1980. , 7071639. ,    1506. ,     213. ],\n",
       "       [   1981. , 7089241. ,    1309. ,     185. ],\n",
       "       [   1982. , 7109105. ,    1382. ,     194. ],\n",
       "       [   1983. , 7181224. ,    1424. ,     198. ],\n",
       "       [   1984. , 7234514. ,    1465. ,     203. ],\n",
       "       [   1985. , 7274054. ,    1326. ,     182. ],\n",
       "       [   1986. , 7319246. ,    1351. ,     185. ],\n",
       "       [   1987. , 7342476. ,    1447. ,     197. ],\n",
       "       [   1988. , 7353719. ,    1484. ,     202. ],\n",
       "       [   1989. , 7344175. ,    1402. ,     191. ],\n",
       "       [   1990. , 7335650. ,    1424. ,     194. ],\n",
       "       [   1991. , 7374501. ,    1469. ,     199. ],\n",
       "       [   1992. , 7428944. ,    1369. ,     184. ],\n",
       "       [   1993. , 7506166. ,    1368.5,     182. ],\n",
       "       [   1994. , 7570458. ,    1357.7,     179. ],\n",
       "       [   1995. , 7633040. ,    1325.7,     174. ],\n",
       "       [   1996. , 7697812. ,    1297.9,     169. ],\n",
       "       [   1997. , 7773443. ,    1205.5,     155. ],\n",
       "       [   1998. , 7858259. ,    1219.5,     155. ],\n",
       "       [   1999. , 7947660. ,    1237.2,     156. ],\n",
       "       [   2000. , 8008278. ,    1240.4,     155. ],\n",
       "       [   2001. , 8024963.5,    1184. ,     148. ],\n",
       "       [   2002. , 8041649. ,    1135.6,     141. ],\n",
       "       [   2003. , 8058334.5,    1093.7,     136. ],\n",
       "       [   2004. , 8075020. ,    1099.5,     136. ],\n",
       "       [   2005. , 8091705.5,    1138. ,     141. ],\n",
       "       [   2006. , 8108391. ,    1069. ,     132. ],\n",
       "       [   2007. , 8125076.5,    1114. ,     137. ],\n",
       "       [   2008. , 8141762. ,    1098. ,     135. ],\n",
       "       [   2009. , 8158447.5,    1007.5,     123. ],\n",
       "       [   2010. , 8175133. ,    1039. ,     127. ],\n",
       "       [   2011. , 8284098. ,    1021. ,     123. ],\n",
       "       [   2012. , 8361179. ,    1009.1,     121. ],\n",
       "       [   2013. , 8422460. ,    1006.1,     119. ],\n",
       "       [   2014. , 8471990. ,     996. ,     118. ],\n",
       "       [   2015. , 8516502. ,    1009. ,     118. ],\n",
       "       [   2016. , 8537673. ,    1002. ,     117. ],\n",
       "       [   2017. , 8622698. ,     990.2,     115. ]])"
      ]
     },
     "execution_count": 16,
     "metadata": {},
     "output_type": "execute_result"
    }
   ],
   "source": [
    "nyc_water"
   ]
  },
  {
   "cell_type": "raw",
   "metadata": {},
   "source": [
    "* Note : Four columns of numpy list as above \n",
    "1st is Year\n",
    "2nd is New york city population\n",
    "3rd is NYC consumption(millions ) \n",
    "4th is per Capital"
   ]
  },
  {
   "cell_type": "markdown",
   "metadata": {},
   "source": [
    "##### part 1 \n",
    "Requries slicing to get the numpy array of gallons\n",
    "Then reshaping to a single Dimention instead of 2D\n",
    "Then finding the maximum\n"
   ]
  },
  {
   "cell_type": "code",
   "execution_count": 13,
   "metadata": {},
   "outputs": [],
   "source": [
    "max_yearly_nyc_consumption_water_in_millions = max(nyc_water[:,2].reshape(1,-1)[0]) # Slicing and converting to a one Dimention array"
   ]
  },
  {
   "cell_type": "code",
   "execution_count": 14,
   "metadata": {},
   "outputs": [
    {
     "name": "stdout",
     "output_type": "stream",
     "text": [
      "Maximum yearly NYC consumption of water in millions of gallons per day is  1512.0\n"
     ]
    }
   ],
   "source": [
    "print(\"Maximum yearly NYC consumption of water in millions of gallons per day is \", max_yearly_nyc_consumption_water_in_millions)"
   ]
  },
  {
   "cell_type": "markdown",
   "metadata": {},
   "source": [
    "#### part 2\n",
    "How many calendar years are represented within this data set? NumPy's shape command is one way to find\n",
    "out.\n",
    "\n",
    "* Sol: using the shape commands in Numpy"
   ]
  },
  {
   "cell_type": "code",
   "execution_count": 15,
   "metadata": {},
   "outputs": [
    {
     "name": "stdout",
     "output_type": "stream",
     "text": [
      "Calendar years within the dataset are :  39\n"
     ]
    }
   ],
   "source": [
    "calendar_years  = nyc_water.shape[0]\n",
    "print(\"Calendar years within the dataset are : \", calendar_years)"
   ]
  },
  {
   "cell_type": "markdown",
   "metadata": {},
   "source": [
    "#### part 3\n",
    "What is the mean and the standard deviation of the per capita daily water consumption?\n",
    "\n",
    "\n",
    "* Solution : Get the array list of per Capita daily water consumption using slicing and then passing it to Numpy.mean() \n",
    "* and Numpy.std() function"
   ]
  },
  {
   "cell_type": "code",
   "execution_count": 18,
   "metadata": {},
   "outputs": [
    {
     "name": "stdout",
     "output_type": "stream",
     "text": [
      "Mean is :  160.30769230769232\n",
      "Standard deviation is :  31.51894330370624\n"
     ]
    }
   ],
   "source": [
    "capita_daily_water_array = nyc_water[:,3].reshape(1,-1)[0]\n",
    "print(\"Mean is : \",np.mean(capita_daily_water_array))\n",
    "print(\"Standard deviation is : \" ,np.std(capita_daily_water_array))\n",
    "\n"
   ]
  },
  {
   "cell_type": "markdown",
   "metadata": {},
   "source": [
    "##### Part 4\n",
    "What is the increase or decrease in population from year to year? Use NumPy's `diff` function to create an array\n",
    "of differences and save that to a variable called \"pop_diff\", then print that variable to the screen.\n",
    "* solution: Use np.diff function to return the change Increase and decrease in a list"
   ]
  },
  {
   "cell_type": "code",
   "execution_count": 20,
   "metadata": {},
   "outputs": [
    {
     "name": "stdout",
     "output_type": "stream",
     "text": [
      "Increase/decrease in population list is :  [-30461.   17602.   19864.   72119.   53290.   39540.   45192.   23230.\n",
      "  11243.   -9544.   -8525.   38851.   54443.   77222.   64292.   62582.\n",
      "  64772.   75631.   84816.   89401.   60618.   16685.5  16685.5  16685.5\n",
      "  16685.5  16685.5  16685.5  16685.5  16685.5  16685.5  16685.5 108965.\n",
      "  77081.   61281.   49530.   44512.   21171.   85025. ]\n"
     ]
    }
   ],
   "source": [
    "new_york_city_population_list = nyc_water[:,1].reshape(1,-1)[0]\n",
    "pop_diff = np.diff(new_york_city_population_list)\n",
    "print(\"Increase/decrease in population list is : \",pop_diff)"
   ]
  },
  {
   "cell_type": "code",
   "execution_count": null,
   "metadata": {},
   "outputs": [],
   "source": []
  }
 ],
 "metadata": {
  "kernelspec": {
   "display_name": "Python 3",
   "language": "python",
   "name": "python3"
  },
  "language_info": {
   "codemirror_mode": {
    "name": "ipython",
    "version": 3
   },
   "file_extension": ".py",
   "mimetype": "text/x-python",
   "name": "python",
   "nbconvert_exporter": "python",
   "pygments_lexer": "ipython3",
   "version": "3.6.8rc1"
  }
 },
 "nbformat": 4,
 "nbformat_minor": 2
}
