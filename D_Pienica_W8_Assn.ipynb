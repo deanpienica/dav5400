{
 "cells": [
  {
   "cell_type": "code",
   "execution_count": 17,
   "metadata": {},
   "outputs": [],
   "source": [
    "import re # importing regex module"
   ]
  },
  {
   "cell_type": "markdown",
   "metadata": {},
   "source": [
    "## Question 1"
   ]
  },
  {
   "cell_type": "markdown",
   "metadata": {},
   "source": [
    "#### Input String is in below cell"
   ]
  },
  {
   "cell_type": "code",
   "execution_count": 18,
   "metadata": {},
   "outputs": [],
   "source": [
    "string = '''\"555-1239Moe Szyslak(636) 555-0113Burns, C. Montgomery555 -6542Rev. Timothy Lovejoy555 8904Ned Flanders636-555-3226Simpson, Homer5553642Dr. Julius Hibbert\"'''"
   ]
  },
  {
   "cell_type": "code",
   "execution_count": 19,
   "metadata": {},
   "outputs": [
    {
     "name": "stdout",
     "output_type": "stream",
     "text": [
      "['Moe Szyslak', 'Burns, C. Montgomery', 'Rev. Timothy Lovejoy', 'Ned Flanders', 'Simpson, Homer', 'Dr. Julius Hibbert']\n"
     ]
    }
   ],
   "source": [
    "regex = re.compile(r\"[A-Za-z,.]+ [A-Za-z,. ]+\") # regular expression to extract names\n",
    "## the logic used above is that we need fields which are separated by space and has greater than 1 alphabet or comma or dot\n",
    "## individual component should have alphabet ot dot or comma : this is signified by [A-Za-z,.]\n",
    "## then + ensures name has 1 or more alphabets\n",
    "## and finally space enforces a space must be present between two name strings\n",
    "ans1 = regex.findall(string) # e apply the regex patttern and print the result\n",
    "print(ans1)"
   ]
  },
  {
   "cell_type": "markdown",
   "metadata": {},
   "source": [
    "## Question 2"
   ]
  },
  {
   "cell_type": "markdown",
   "metadata": {},
   "source": [
    "### part a"
   ]
  },
  {
   "cell_type": "code",
   "execution_count": 20,
   "metadata": {},
   "outputs": [],
   "source": [
    "### Question part a can be interpreted in multiple ways\n",
    "### Interpretation : in part a we want to extract firstname followed bylast name whilst preserving titles and middle names\n",
    "### this means we want to get rid of special characters"
   ]
  },
  {
   "cell_type": "code",
   "execution_count": 21,
   "metadata": {},
   "outputs": [],
   "source": [
    "\n",
    "def standardize(str_input): # removes special characters present\n",
    "    ans1 = re.sub(r'[^\\w.]', ' ', str_input)\n",
    "    return ans1"
   ]
  },
  {
   "cell_type": "code",
   "execution_count": 22,
   "metadata": {},
   "outputs": [
    {
     "name": "stdout",
     "output_type": "stream",
     "text": [
      "['Moe Szyslak', 'Burns  C. Montgomery', 'Rev. Timothy Lovejoy', 'Ned Flanders', 'Simpson  Homer', 'Dr. Julius Hibbert']\n"
     ]
    }
   ],
   "source": [
    "ans2_a = []\n",
    "for character in ans1: # for each name\n",
    "    ans2_a.append(standardize(character)) # apply regrex and store result\n",
    "print(ans2_a) #print result"
   ]
  },
  {
   "cell_type": "markdown",
   "metadata": {},
   "source": [
    "### part b"
   ]
  },
  {
   "cell_type": "code",
   "execution_count": 23,
   "metadata": {},
   "outputs": [
    {
     "name": "stdout",
     "output_type": "stream",
     "text": [
      "[False, False, True, False, False, True]\n"
     ]
    }
   ],
   "source": [
    "ans2_b =[] \n",
    "regexp = re.compile(r'Dr.|Rev.') # check if title is containe\n",
    "for char in ans1: # for each name\n",
    "    if(regexp.search(char)): # check for title\n",
    "        ans2_b.append(True) # true if title is present\n",
    "    else:\n",
    "        ans2_b.append(False)\n",
    "print(ans2_b) # print result"
   ]
  },
  {
   "cell_type": "markdown",
   "metadata": {},
   "source": [
    "### part c"
   ]
  },
  {
   "cell_type": "code",
   "execution_count": 24,
   "metadata": {},
   "outputs": [
    {
     "name": "stdout",
     "output_type": "stream",
     "text": [
      "[False, True, False, False, False, False]\n"
     ]
    }
   ],
   "source": [
    "ans2_c =[]\n",
    "ind = -1# keeps track of index of part b answer\n",
    "for char in ans1: # for each character name\n",
    "    ind = ind + 1\n",
    "    words = re.findall(\"(\\S+)\", char) # split in words using spaces\n",
    "    if(len(words) > 2 and not ans2_b[ind]) : # check if it has more than 2 words and does not have a title\n",
    "        ans2_c.append(True) # if it is a middle name\n",
    "    else:\n",
    "        ans2_c.append(False)\n",
    "print(ans2_c) # print result"
   ]
  },
  {
   "cell_type": "markdown",
   "metadata": {},
   "source": [
    "## Question 3"
   ]
  },
  {
   "cell_type": "code",
   "execution_count": 25,
   "metadata": {},
   "outputs": [],
   "source": [
    "html_string = '''<title>+++BREAKING NEWS+++<title>.'''"
   ]
  },
  {
   "cell_type": "markdown",
   "metadata": {},
   "source": [
    "### We are given below regex which is applied on above string . We desire to extract first html tag\n",
    "### Lets analyze why below regex fails\n",
    "### We observe from below cell that the regex gives whole string back"
   ]
  },
  {
   "cell_type": "code",
   "execution_count": 26,
   "metadata": {},
   "outputs": [
    {
     "name": "stdout",
     "output_type": "stream",
     "text": [
      "['<title>+++BREAKING NEWS+++<title>']\n"
     ]
    }
   ],
   "source": [
    "regex = re.compile(r\"<.+>\")\n",
    "ans3 = regex.findall(html_string)\n",
    "print(ans3)"
   ]
  },
  {
   "cell_type": "markdown",
   "metadata": {},
   "source": [
    "### For another string too it does the same as shown below"
   ]
  },
  {
   "cell_type": "code",
   "execution_count": 27,
   "metadata": {},
   "outputs": [
    {
     "name": "stdout",
     "output_type": "stream",
     "text": [
      "['<dab>']\n"
     ]
    }
   ],
   "source": [
    "ans3 = regex.findall(\"<dab>\")\n",
    "print(ans3)"
   ]
  },
  {
   "cell_type": "markdown",
   "metadata": {},
   "source": [
    "### Basically provided regex says that display any character which occurs atleast 1 time and should be surrunded by angle brackets\n",
    "### . means match any one character, + means match groups of size more than 1 and angle bracket means everything should be inside angle brackets. Now lets correct it in below cell"
   ]
  },
  {
   "cell_type": "code",
   "execution_count": 28,
   "metadata": {},
   "outputs": [
    {
     "name": "stdout",
     "output_type": "stream",
     "text": [
      "<title>\n"
     ]
    }
   ],
   "source": [
    "regex = re.compile(r\"<[A-Za-z]*>\")\n",
    "ans3 = regex.findall(html_string)[0]\n",
    "print(ans3)"
   ]
  },
  {
   "cell_type": "markdown",
   "metadata": {},
   "source": [
    "### We saw in above cell that we get desired result. We put a regex which says get things between angle brackets which contain alphabets\n",
    "### Then we find such string and we return the first match "
   ]
  },
  {
   "cell_type": "markdown",
   "metadata": {},
   "source": [
    "## Question 4"
   ]
  },
  {
   "cell_type": "markdown",
   "metadata": {},
   "source": [
    "### Again we have another string of binomial expression where we want to extract the given formula \n",
    "### As shown in below 2 cells\n",
    "### The current regex provided says that find groups of anything except numbers, + , * and () which occurs atleast one time\n",
    "### Hence we get only hyphen and dollars which are not excluded using ^ operator"
   ]
  },
  {
   "cell_type": "code",
   "execution_count": 29,
   "metadata": {},
   "outputs": [
    {
     "name": "stdout",
     "output_type": "stream",
     "text": [
      "-\n"
     ]
    }
   ],
   "source": [
    "binomial_str = \"(5-3)^2=5^2-2*5*3+3^2\"\n",
    "regex = re.compile(r\"[^0-9=+*()]+\")\n",
    "ans4 = regex.findall(binomial_str)[0]\n",
    "print(ans4)"
   ]
  },
  {
   "cell_type": "code",
   "execution_count": 30,
   "metadata": {},
   "outputs": [
    {
     "name": "stdout",
     "output_type": "stream",
     "text": [
      "['$-']\n"
     ]
    }
   ],
   "source": [
    "regex = re.compile(r\"[^0-9=+*()]+\")\n",
    "ans4 = regex.findall(\"$-\")\n",
    "print(ans4)"
   ]
  },
  {
   "cell_type": "markdown",
   "metadata": {},
   "source": [
    "### We correct and extract the formula by specifying a regex wich says bring all numbers, ^, *, + and - after = "
   ]
  },
  {
   "cell_type": "code",
   "execution_count": 31,
   "metadata": {},
   "outputs": [
    {
     "name": "stdout",
     "output_type": "stream",
     "text": [
      "5^2-2*5*3+3^2\n"
     ]
    }
   ],
   "source": [
    "regex = re.compile(r\"=[0-9^*+-]*\")\n",
    "ans4 = regex.findall(binomial_str)[0][1:]\n",
    "print(ans4)"
   ]
  },
  {
   "cell_type": "code",
   "execution_count": null,
   "metadata": {},
   "outputs": [],
   "source": []
  }
 ],
 "metadata": {
  "kernelspec": {
   "display_name": "Python 3",
   "language": "python",
   "name": "python3"
  },
  "language_info": {
   "codemirror_mode": {
    "name": "ipython",
    "version": 3
   },
   "file_extension": ".py",
   "mimetype": "text/x-python",
   "name": "python",
   "nbconvert_exporter": "python",
   "pygments_lexer": "ipython3",
   "version": "3.7.1"
  }
 },
 "nbformat": 4,
 "nbformat_minor": 2
}
