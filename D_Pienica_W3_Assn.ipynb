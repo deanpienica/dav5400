{
 "cells": [
  {
   "cell_type": "code",
   "execution_count": 8,
   "metadata": {},
   "outputs": [
    {
     "name": "stdout",
     "output_type": "stream",
     "text": [
      "**** Medium price indices****\n",
      "[6, 16, 20, 23, 26, 29]\n"
     ]
    }
   ],
   "source": [
    "#first task\n",
    "\n",
    "import csv\n",
    "with open('/Users/Deano/Desktop/cars-sample35.txt') as csvfile:\n",
    "    readCSV = csv.reader(csvfile)\n",
    "    #filter rows with length more than 0, i.e. containing data\n",
    "    dataRows = [row for row in readCSV if len(row)>0]\n",
    "    medPriceDataRowsIndices = [idx for (idx, row) in enumerate(dataRows) if row[0] == \"med\"]\n",
    "    print(\"**** Medium price indices****\")\n",
    "    print(medPriceDataRowsIndices)    "
   ]
  },
  {
   "cell_type": "code",
   "execution_count": 21,
   "metadata": {},
   "outputs": [
    {
     "name": "stdout",
     "output_type": "stream",
     "text": [
      "**** Medium price passengers****\n",
      "['more', '2', '2', '2', '4', '2']\n"
     ]
    }
   ],
   "source": [
    "#second task\n",
    "\n",
    "import csv\n",
    "with open('/Users/Deano/Desktop/cars-sample35.txt') as csvfile:\n",
    "    readCSV = csv.reader(csvfile)\n",
    "    #filter rows with length more than 0, i.e. containing data\n",
    "    dataRows = [row for row in readCSV if len(row)>0]\n",
    "    #filter rows whose first element is med\n",
    "    medPriceDataRowsPassengers = [row[3] for row in dataRows if row[0] == \"med\"]\n",
    "    print(\"**** Medium price passengers****\")\n",
    "    print(medPriceDataRowsPassengers)"
   ]
  },
  {
   "cell_type": "code",
   "execution_count": 11,
   "metadata": {},
   "outputs": [
    {
     "name": "stdout",
     "output_type": "stream",
     "text": [
      "**** High price not low maintenance****\n",
      "[['high', 'high', '2', '4', 'med', 'low', 'unacc'], ['high', 'high', '4', 'more', 'small', 'high', 'acc'], ['high', 'high', '4', 'more', 'big', 'low', 'unacc'], ['high', 'high', '3', '4', 'med', 'med', 'unacc'], ['high', 'vhigh', '5more', '4', 'med', 'med', 'unacc']]\n"
     ]
    }
   ],
   "source": [
    "#third task\n",
    "\n",
    "import csv\n",
    "with open('/Users/Deano/Desktop/cars-sample35.txt') as csvfile:\n",
    "    readCSV = csv.reader(csvfile)\n",
    "    dataRows = [row for row in readCSV if len(row)>0]\n",
    "    #filter rows with whose first element is high and second element is not low\n",
    "    HighPriceDataRowsNotLowMaintenance = [row for row in dataRows if row[0] == \"high\" and not row[1] == \"low\" ]\n",
    "    print(\"**** High price not low maintenance****\")\n",
    "    print(HighPriceDataRowsNotLowMaintenance)"
   ]
  },
  {
   "cell_type": "code",
   "execution_count": 20,
   "metadata": {},
   "outputs": [
    {
     "name": "stdout",
     "output_type": "stream",
     "text": [
      "[1, 2, 3, 'A', 'B', 'C', 4, 5, 'D', 'E']\n",
      "[1, 2, 3, 'A', 'B', 'C', 4, 5, 'D', 'E']\n"
     ]
    }
   ],
   "source": [
    "#fourth task\n",
    "\n",
    "nlist = [[1,2,3],[\"A\",\"B\",\"C\"],[4,5],[\"D\",\"E\"]]\n",
    "flist = []\n",
    "#iteratively append each element in each list to another list\n",
    "for x in nlist:\n",
    "    for y in x:\n",
    "        flist.append(y)\n",
    "print(flist)\n",
    "(\"****list comprehesion****\")\n",
    "#add each element in a list contained in another list with a list comprehesion\n",
    "flist2 = [ele2 for ele in nlist for ele2 in ele]\n",
    "print(flist2)"
   ]
  },
  {
   "cell_type": "code",
   "execution_count": 22,
   "metadata": {},
   "outputs": [
    {
     "name": "stdout",
     "output_type": "stream",
     "text": [
      "A4 price: med passengers: small\n"
     ]
    }
   ],
   "source": [
    "#fifth task\n",
    "\n",
    "def makedict(mylist, x):\n",
    "    if len(mylist) >= x:\n",
    "        print(\"Length of list not equal to passed list size\")\n",
    "    else:\n",
    "        adict = {}\n",
    "        alist = [ele for ele in mylist]\n",
    "    print(alist)\n",
    "    for (key,val) in enumerate(alist):\n",
    "        adict[\"A\"+str(key)] = val\n",
    "    print(adict)\n",
    "    \n",
    "\n",
    "import csv\n",
    "with open('/Users/Deano/Desktop/cars-sample35.txt') as csvfile:\n",
    "    readCSV = csv.reader(csvfile)\n",
    "    #filter rows with length more than 0, i.e. containing data\n",
    "    dataRows = [row for row in readCSV if len(row)>0]\n",
    "    #first seven price\n",
    "    priceSevenRows = dataRows[0][:7]\n",
    "    #first seven passengers luggage\n",
    "    passengersSevenRows = dataRows[1][:7]\n",
    "    print(\"A4 price: \"+priceSevenRows[4]+\" passengers: \"+passengersSevenRows[4])"
   ]
  },
  {
   "cell_type": "code",
   "execution_count": 24,
   "metadata": {},
   "outputs": [
    {
     "name": "stdout",
     "output_type": "stream",
     "text": [
      "\u001b[H\u001b[2J"
     ]
    }
   ],
   "source": []
  },
  {
   "cell_type": "code",
   "execution_count": 13,
   "metadata": {},
   "outputs": [],
   "source": []
  },
  {
   "cell_type": "code",
   "execution_count": null,
   "metadata": {},
   "outputs": [],
   "source": []
  },
  {
   "cell_type": "code",
   "execution_count": null,
   "metadata": {},
   "outputs": [],
   "source": []
  }
 ],
 "metadata": {
  "kernelspec": {
   "display_name": "Python 3",
   "language": "python",
   "name": "python3"
  },
  "language_info": {
   "codemirror_mode": {
    "name": "ipython",
    "version": 3
   },
   "file_extension": ".py",
   "mimetype": "text/x-python",
   "name": "python",
   "nbconvert_exporter": "python",
   "pygments_lexer": "ipython3",
   "version": "3.7.1"
  }
 },
 "nbformat": 4,
 "nbformat_minor": 2
}
